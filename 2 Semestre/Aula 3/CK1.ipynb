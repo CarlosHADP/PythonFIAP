{
 "cells": [
  {
   "cell_type": "code",
   "execution_count": 22,
   "metadata": {},
   "outputs": [],
   "source": [
    "brasileirao = (\n",
    "    (\"Fortaleza\", 48, 14, 3),\n",
    "    (\"Botafogo\", 47, 14, 5),\n",
    "    (\"Palmeiras\", 44, 14, 5),\n",
    "    (\"Flamengo\", 44, 13, 5),\n",
    "    (\"São Paulo\", 41, 12, 5)\n",
    ")"
   ]
  },
  {
   "cell_type": "code",
   "execution_count": 24,
   "metadata": {},
   "outputs": [
    {
     "name": "stdout",
     "output_type": "stream",
     "text": [
      "[0.9411764705882353, 0.9038461538461539, 0.8979591836734694, 0.8979591836734694, 0.8913043478260869]\n"
     ]
    }
   ],
   "source": [
    "taxa_pontos = []\n",
    "for i in brasileirao:\n",
    "    taxa_pontos.append(i[1] / (i[1] + i[3]))\n",
    "print(taxa_pontos)"
   ]
  },
  {
   "cell_type": "code",
   "execution_count": 25,
   "metadata": {},
   "outputs": [
    {
     "name": "stdout",
     "output_type": "stream",
     "text": [
      "Fortaleza 0.9411764705882353\n",
      "São Paulo 0.8913043478260869\n"
     ]
    }
   ],
   "source": [
    "maiorTime = \"\"\n",
    "menorTime = \"\"\n",
    "maiorTaxa = 0\n",
    "menorTaxa = 1\n",
    "\n",
    "for i in brasileirao:\n",
    "    taxa = (i[1] / (i[1] + i[3]))\n",
    "    if maiorTaxa < taxa:\n",
    "        maiorTaxa = taxa\n",
    "        maiorTime = i[0]\n",
    "    if menorTaxa > taxa:\n",
    "        menorTaxa = taxa\n",
    "        menorTime = i[0]\n",
    "\n",
    "\n",
    "print(maiorTime, maiorTaxa)\n",
    "print(menorTime, menorTaxa)\n"
   ]
  },
  {
   "cell_type": "code",
   "execution_count": 26,
   "metadata": {},
   "outputs": [
    {
     "name": "stdout",
     "output_type": "stream",
     "text": [
      "(('Fortaleza', 48, 14, 3), ('Botafogo', 47, 14, 5), ('Palmeiras', 44, 14, 5), ('Flamengo', 44, 13, 5), ('São Paulo', 41, 12, 5), ('Fluminense', 24, 6, 6), ('Vitória', 22, 6, 4), ('Corinthians', 22, 4, 10), ('Cuiabá', 18, 4, 6), ('Atlético-GO', 18, 4, 6))\n"
     ]
    }
   ],
   "source": [
    "novosTimes = (\n",
    "    (\"Fluminense\", 24, 6, 6),\n",
    "    (\"Vitória\", 22, 6, 4),\n",
    "    (\"Corinthians\", 22, 4, 10),\n",
    "    (\"Cuiabá\", 18, 4, 6),\n",
    "    (\"Atlético-GO\", 18, 4, 6)\n",
    ")\n",
    "brasileirao = brasileirao + novosTimes\n",
    "print(brasileirao)"
   ]
  },
  {
   "cell_type": "code",
   "execution_count": 43,
   "metadata": {},
   "outputs": [
    {
     "name": "stdout",
     "output_type": "stream",
     "text": [
      "[('Fortaleza', 48, 14, 3), ('Botafogo', 47, 14, 5), ('Palmeiras', 44, 14, 5), ('Flamengo', 44, 13, 5), ('São Paulo', 41, 12, 5), ('Fluminense', 28, 7, 7), ('Vitória', 22, 6, 4), ('Corinthians', 22, 4, 10), ('Cuiabá', 18, 4, 6), ('Atlético-GO', 18, 4, 6)]\n"
     ]
    }
   ],
   "source": [
    "brasileirao = list(brasileirao)\n",
    "for j in brasileirao:\n",
    "    if j[0] == \"Fluminense\":\n",
    "        brasileirao[5] = (\"Fluminense\", 28, 7, 7)\n",
    "        \n",
    "print(brasileirao)"
   ]
  },
  {
   "cell_type": "code",
   "execution_count": 27,
   "metadata": {},
   "outputs": [
    {
     "name": "stdout",
     "output_type": "stream",
     "text": [
      "328\n",
      "91\n",
      "55\n"
     ]
    }
   ],
   "source": [
    "soma_Pontos = 0 \n",
    "soma_Vitorias = 0 \n",
    "soma_Derrotas = 0 \n",
    "\n",
    "for k in brasileirao:\n",
    "    soma_Pontos+=k[1]\n",
    "    soma_Vitorias+=k[2]\n",
    "    soma_Derrotas+=k[3]\n",
    "\n",
    "print(soma_Pontos)\n",
    "print(soma_Vitorias)\n",
    "print(soma_Derrotas)\n"
   ]
  }
 ],
 "metadata": {
  "kernelspec": {
   "display_name": "Python 3",
   "language": "python",
   "name": "python3"
  },
  "language_info": {
   "codemirror_mode": {
    "name": "ipython",
    "version": 3
   },
   "file_extension": ".py",
   "mimetype": "text/x-python",
   "name": "python",
   "nbconvert_exporter": "python",
   "pygments_lexer": "ipython3",
   "version": "3.12.3"
  }
 },
 "nbformat": 4,
 "nbformat_minor": 2
}
