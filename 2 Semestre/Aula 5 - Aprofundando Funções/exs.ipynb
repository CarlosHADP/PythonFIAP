{
 "cells": [
  {
   "cell_type": "code",
   "execution_count": null,
   "metadata": {},
   "outputs": [],
   "source": [
    "def soma(a, b):\n",
    "    return a + b\n",
    "    \n",
    "def sub(a,  b):\n",
    "    return a - b\n",
    "\n",
    "def mult(a, b):\n",
    "    return a * b \n",
    "\n",
    "def div(a, b):\n",
    "    return a / b\n",
    "\n",
    "def calculos(a, b):\n",
    "    return soma(a, b), sub(a, b), mult(a, b), div(a, b)\n",
    "\n",
    "print(calculos(5, 6))"
   ]
  },
  {
   "cell_type": "code",
   "execution_count": null,
   "metadata": {},
   "outputs": [],
   "source": [
    "produtos = []\n",
    "media = 0\n",
    "num = 0\n",
    "while True:\n",
    "    num = input(\"Digite numeros para calcular a média. (Digite 'fim' terminar  calculo)\")\n",
    "    if num == \"fim\":\n",
    "        break\n",
    "    produtos.append(float(num))\n",
    "for i in produtos:\n",
    "    media+=i\n",
    "media_final = media / len(produtos)"
   ]
  },
  {
   "cell_type": "code",
   "execution_count": null,
   "metadata": {},
   "outputs": [],
   "source": [
    "def nums():\n",
    "    numeros = []\n",
    "    quantos = int(input(\"Quantos numeros quer digitar?\"))\n",
    "    for i in range(quantos):\n",
    "        num = int(input(f\"Digite o numero: {i}\"))\n",
    "        numeros.append(num)\n",
    "    return numeros\n",
    "\n",
    "def media():\n",
    "    soma = 0\n",
    "    lista = nums()\n",
    "    for i in lista:\n",
    "        soma+=i\n",
    "    return soma / len(lista)\n",
    "\n",
    "print(media())"
   ]
  }
 ],
 "metadata": {
  "language_info": {
   "name": "python"
  }
 },
 "nbformat": 4,
 "nbformat_minor": 2
}
