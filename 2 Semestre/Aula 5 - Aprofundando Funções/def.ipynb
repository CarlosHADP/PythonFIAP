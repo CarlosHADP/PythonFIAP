{
 "cells": [
  {
   "cell_type": "code",
   "execution_count": 6,
   "metadata": {},
   "outputs": [
    {
     "name": "stdout",
     "output_type": "stream",
     "text": [
      "2\n"
     ]
    }
   ],
   "source": [
    "def soma(a, b):\n",
    "    \"Função soma\"\n",
    "    soma = a + b\n",
    "    return soma\n",
    "\n",
    "def media(a, b):\n",
    "    \"Função média\"\n",
    "    media = soma(a, b) / 2 \n",
    "    return media\n",
    "\n",
    "print(f\"{media(1, 3):.0f}\")"
   ]
  },
  {
   "cell_type": "code",
   "execution_count": 9,
   "metadata": {},
   "outputs": [
    {
     "data": {
      "text/plain": [
       "559"
      ]
     },
     "execution_count": 9,
     "metadata": {},
     "output_type": "execute_result"
    }
   ],
   "source": [
    "def soma_quadrado(x):\n",
    "    y = x**2\n",
    "    return y\n",
    "\n",
    "def soma_dos_quadrados(a, b, c, d, e):\n",
    "    r = soma_quadrado(a)\n",
    "    t = soma_quadrado(b)\n",
    "    y = soma_quadrado(c)\n",
    "    u = soma_quadrado(d)\n",
    "    i = soma_quadrado(e)\n",
    "\n",
    "    soma = r + t + y + u + i\n",
    "\n",
    "    return soma\n",
    "\n",
    "soma_dos_quadrados(5, 10, 11, 12, 13)"
   ]
  },
  {
   "cell_type": "code",
   "execution_count": 13,
   "metadata": {},
   "outputs": [
    {
     "name": "stdout",
     "output_type": "stream",
     "text": [
      "A área do retangulo é 25.0\n"
     ]
    }
   ],
   "source": [
    "# Função para calcular a área de um retângulo\n",
    "\n",
    "def area(comprimento, largura):\n",
    "    area_rect = comprimento * largura\n",
    "\n",
    "    return area_rect\n",
    "\n",
    "def mostra_area():\n",
    "    print(f\"A área do retangulo é {ar}\")\n",
    "\n",
    "c = float(input(\"Digite o comprimento: \"))\n",
    "l = float(input(\"Digite a largura: \"))\n",
    "\n",
    "ar = area(l, c)\n",
    "\n",
    "mostra_area()"
   ]
  },
  {
   "cell_type": "code",
   "execution_count": 28,
   "metadata": {},
   "outputs": [
    {
     "name": "stdout",
     "output_type": "stream",
     "text": [
      "A área deste circulo é média\n"
     ]
    }
   ],
   "source": [
    "#Funcao para calcular a area de um circulo e retornar as seguintes informacoes:\n",
    "#area > 100 - area_grande\n",
    "# area > 50 - area_media\n",
    "# area < 5 - area_pequena\n",
    "\n",
    "def area_circulo(raio):\n",
    "    area = 3.14 * (raio**2)\n",
    "    return area\n",
    "\n",
    "def mostra_areaC():\n",
    "    if arC > 100:\n",
    "        print(\"A área deste circulo é grande\")\n",
    "    elif arC > 50:\n",
    "        print(\"A área deste circulo é média\")\n",
    "    else:\n",
    "        print(\"A área deste circulo é pequena\")\n",
    "        \n",
    "arC = area_circulo(float(input(\"Qual o raio do circulo desejado?\")))\n",
    "\n",
    "mostra_areaC()"
   ]
  },
  {
   "cell_type": "code",
   "execution_count": 32,
   "metadata": {},
   "outputs": [
    {
     "name": "stdout",
     "output_type": "stream",
     "text": [
      "[5, 12, 21, 32]\n"
     ]
    }
   ],
   "source": [
    "def multiplica(a, b):\n",
    "    mult = a * b\n",
    "    return mult\n",
    "\n",
    "def multiplicar_lista(lista1, lista2):\n",
    "    produtos = []\n",
    "\n",
    "    for i in range(len(lista1)):\n",
    "        produtos.append(multiplica(lista1[i], lista2[i]))\n",
    "    return produtos\n",
    "\n",
    "listaA = [1, 2, 3, 4]\n",
    "listaB = [5, 6, 7, 8]\n",
    "\n",
    "resultado = multiplicar_lista(listaA, listaB)\n",
    "print(resultado)"
   ]
  },
  {
   "cell_type": "markdown",
   "metadata": {},
   "source": [
    "EXERCICIOS !!!!!!!!!!!!!!!!!!!!!!!"
   ]
  },
  {
   "cell_type": "code",
   "execution_count": 53,
   "metadata": {},
   "outputs": [
    {
     "name": "stdout",
     "output_type": "stream",
     "text": [
      "(11, -1, 30, 0.8333333333333334)\n"
     ]
    }
   ],
   "source": [
    "\n",
    "def soma(a, b):\n",
    "    return soma\n",
    "    \n",
    "def sub(a,  b):\n",
    "    return a - b\n",
    "\n",
    "def mult(a, b):\n",
    "    return a * b \n",
    "\n",
    "def div(a, b):\n",
    "    return a / b\n",
    "\n",
    "def calculos(a, b):\n",
    "    return soma(a, b), sub(a, b), mult(a, b), div(a, b)\n",
    "\n",
    "print(calculos(5, 6))"
   ]
  },
  {
   "cell_type": "code",
   "execution_count": 45,
   "metadata": {},
   "outputs": [],
   "source": [
    "produtos = []\n",
    "media = 0\n",
    "num = 0\n",
    "while True:\n",
    "    num = input(\"Digite numeros para calcular a média. (Digite 'fim' terminar  calculo)\")\n",
    "    if num == \"fim\":\n",
    "        break\n",
    "    produtos.append(float(num))\n",
    "for i in produtos:\n",
    "    media+=i\n",
    "media_final = media / len(produtos)\n"
   ]
  },
  {
   "cell_type": "code",
   "execution_count": 52,
   "metadata": {},
   "outputs": [
    {
     "ename": "NameError",
     "evalue": "name 'lista' is not defined",
     "output_type": "error",
     "traceback": [
      "\u001b[1;31m---------------------------------------------------------------------------\u001b[0m",
      "\u001b[1;31mNameError\u001b[0m                                 Traceback (most recent call last)",
      "Cell \u001b[1;32mIn[52], line 15\u001b[0m\n\u001b[0;32m     12\u001b[0m         soma\u001b[38;5;241m+\u001b[39m\u001b[38;5;241m=\u001b[39mi\n\u001b[0;32m     13\u001b[0m     \u001b[38;5;28;01mreturn\u001b[39;00m soma \u001b[38;5;241m/\u001b[39m \u001b[38;5;28mlen\u001b[39m(lista)\n\u001b[1;32m---> 15\u001b[0m \u001b[43mmedia\u001b[49m\u001b[43m(\u001b[49m\u001b[43m)\u001b[49m\n",
      "Cell \u001b[1;32mIn[52], line 13\u001b[0m, in \u001b[0;36mmedia\u001b[1;34m()\u001b[0m\n\u001b[0;32m     11\u001b[0m \u001b[38;5;28;01mfor\u001b[39;00m i \u001b[38;5;129;01min\u001b[39;00m nums():\n\u001b[0;32m     12\u001b[0m     soma\u001b[38;5;241m+\u001b[39m\u001b[38;5;241m=\u001b[39mi\n\u001b[1;32m---> 13\u001b[0m \u001b[38;5;28;01mreturn\u001b[39;00m soma \u001b[38;5;241m/\u001b[39m \u001b[38;5;28mlen\u001b[39m(\u001b[43mlista\u001b[49m)\n",
      "\u001b[1;31mNameError\u001b[0m: name 'lista' is not defined"
     ]
    }
   ],
   "source": [
    "def nums():\n",
    "    numeros = []\n",
    "    quantos = int(input(\"Quantos numeros quer digitar?\"))\n",
    "    for i in range(quantos):\n",
    "        num = int(input(f\"Digite o numero: {i}\"))\n",
    "        numeros.append(num)\n",
    "    return numeros\n",
    "\n",
    "def media():\n",
    "    soma = 0\n",
    "    lista = nums()\n",
    "    for i in lista:\n",
    "        soma+=i\n",
    "    return soma / len(lista)\n",
    "\n",
    "print(media())\n"
   ]
  }
 ],
 "metadata": {
  "kernelspec": {
   "display_name": "Python 3",
   "language": "python",
   "name": "python3"
  },
  "language_info": {
   "codemirror_mode": {
    "name": "ipython",
    "version": 3
   },
   "file_extension": ".py",
   "mimetype": "text/x-python",
   "name": "python",
   "nbconvert_exporter": "python",
   "pygments_lexer": "ipython3",
   "version": "3.12.3"
  }
 },
 "nbformat": 4,
 "nbformat_minor": 2
}
