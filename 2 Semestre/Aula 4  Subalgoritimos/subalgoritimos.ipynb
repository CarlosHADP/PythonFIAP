{
 "cells": [
  {
   "cell_type": "code",
   "execution_count": 2,
   "metadata": {},
   "outputs": [
    {
     "data": {
      "text/plain": [
       "(10, -8, 24, 0.041666666666666664)"
      ]
     },
     "execution_count": 2,
     "metadata": {},
     "output_type": "execute_result"
    }
   ],
   "source": [
    "def operations(n1, n2, n3, n4):\n",
    "    add = n1 + n2 + n3 + n4 \n",
    "    sub = n1 - n2 - n3 - n4 \n",
    "    mult = n1 * n2 * n3 * n4 \n",
    "    div = n1 / n2 / n3 / n4 \n",
    "    return add, sub, div, mult\n",
    "\n",
    "operations(1, 2 ,3 ,4 )"
   ]
  },
  {
   "cell_type": "code",
   "execution_count": 15,
   "metadata": {},
   "outputs": [
    {
     "data": {
      "text/plain": [
       "(150, 30.0, 275, 27.5, 525, 37.5, 950, 31.666666666666668)"
      ]
     },
     "execution_count": 15,
     "metadata": {},
     "output_type": "execute_result"
    }
   ],
   "source": [
    "lista1 = [10, 20, 30, 40, 50]\n",
    "lista2 = [5, 10, 15, 20, 25, 30, 35, 40, 45, 50]\n",
    "lista3 = [5, 10, 15, 20, 25, 30, 35, 40, 45, 50, 55, 60, 65, 70]\n",
    "\n",
    "def listandoListas(list1, list2, list3):\n",
    "    soma1, media1 = sum(list1), sum(list1)/len(list1)\n",
    "    soma2, media2 = sum(list2), sum(list2)/len(list2)\n",
    "    soma3, media3 = sum(list3), sum(list3)/len(list3)\n",
    "\n",
    "    mediaF = (media1 + media2 + media3) / 3\n",
    "    somaF = soma1 + soma2 + soma3\n",
    "\n",
    "    return soma1, media1, soma2, media2, soma3, media3, somaF, mediaF\n",
    "\n",
    "listandoListas(lista1, lista2, lista3)\n",
    "    "
   ]
  },
  {
   "cell_type": "code",
   "execution_count": 5,
   "metadata": {},
   "outputs": [
    {
     "data": {
      "text/plain": [
       "(150, 30.0)"
      ]
     },
     "execution_count": 5,
     "metadata": {},
     "output_type": "execute_result"
    }
   ],
   "source": [
    "lista = [10, 20, 30, 40, 50]\n",
    "\n",
    "def listando(list):\n",
    "    soma, media, index = 0, 0, 0\n",
    "    for i in lista:\n",
    "        soma+=i\n",
    "        media+=i\n",
    "        index+=1\n",
    "    return soma, media/index\n",
    "\n",
    "listando(lista)"
   ]
  }
 ],
 "metadata": {
  "kernelspec": {
   "display_name": "Python 3",
   "language": "python",
   "name": "python3"
  },
  "language_info": {
   "codemirror_mode": {
    "name": "ipython",
    "version": 3
   },
   "file_extension": ".py",
   "mimetype": "text/x-python",
   "name": "python",
   "nbconvert_exporter": "python",
   "pygments_lexer": "ipython3",
   "version": "3.12.3"
  }
 },
 "nbformat": 4,
 "nbformat_minor": 2
}
