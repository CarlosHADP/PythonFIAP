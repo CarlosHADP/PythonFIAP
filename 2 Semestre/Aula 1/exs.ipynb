{
 "cells": [
  {
   "cell_type": "code",
   "execution_count": 9,
   "metadata": {},
   "outputs": [
    {
     "name": "stdout",
     "output_type": "stream",
     "text": [
      "A media dos alunos foi de [6.0, 9.0, 7.0] e suas notas respectivamente [[5.0, 6.0, 7.0], [8.0, 9.0, 10.0], [4.0, 8.0, 9.0]]\n"
     ]
    }
   ],
   "source": [
    "alunos = [[],[],[]]\n",
    "medias = []\n",
    "media = 0\n",
    "\n",
    "\n",
    "for i in range(3):\n",
    "    soma = 0 \n",
    "    for j in range(3):\n",
    "        nota = float(input(f\"Digite a nota {j+1}:\"))\n",
    "        alunos[i].append(nota)\n",
    "\n",
    "    for k in alunos[i]:\n",
    "        soma+=k\n",
    "\n",
    "    media = soma / len(alunos[i])\n",
    "    medias.append(media)\n",
    "\n",
    "\n",
    "print(f\"A media dos alunos foi de {medias} e suas notas respectivamente {alunos}\")\n",
    "\n"
   ]
  },
  {
   "cell_type": "code",
   "execution_count": 11,
   "metadata": {},
   "outputs": [
    {
     "name": "stdout",
     "output_type": "stream",
     "text": [
      "O aluno 1 foi aprovado\n",
      "O aluno 2 foi aprovado\n",
      "O aluno 3 foi aprovado\n"
     ]
    }
   ],
   "source": [
    "index = 0\n",
    "for u in medias:\n",
    "    if u < 6:\n",
    "        print(f\"O aluno {index + 1} foi reprovado\")\n",
    "    else:\n",
    "        print(f\"O aluno {index + 1} foi aprovado\")\n",
    "    index += 1"
   ]
  },
  {
   "cell_type": "code",
   "execution_count": 16,
   "metadata": {},
   "outputs": [
    {
     "name": "stdout",
     "output_type": "stream",
     "text": [
      "(8, 80)\n",
      "(7, 85)\n"
     ]
    }
   ],
   "source": [
    "lista_nf = [(8, 80),\n",
    "            (7, 85),\n",
    "            (7.5, 90),\n",
    "            (9, 70)]\n",
    "\n",
    "print(lista_nf[0])\n",
    "print(lista_nf[2])"
   ]
  },
  {
   "cell_type": "code",
   "execution_count": 9,
   "metadata": {},
   "outputs": [
    {
     "name": "stdout",
     "output_type": "stream",
     "text": [
      "Seu salario sem impostos é de 2312.5\n"
     ]
    }
   ],
   "source": [
    "salario = float(input(\"Digite seu salário:\"))\n",
    "index = 0\n",
    "tabela = [\n",
    "    (2112, 0),\n",
    "    (2826.66, 7.5),\n",
    "    (3751.06, 15),\n",
    "    (4664.68, 22.5),\n",
    "    (float('inf'),27.5)\n",
    "]\n",
    "\n",
    "for i,k in tabela: \n",
    "    if salario <= i:\n",
    "        desconto = salario *k/100\n",
    "        break\n",
    "\n",
    "    \n",
    "print(f\"Seu salario sem impostos é de {salario - desconto}\")"
   ]
  }
 ],
 "metadata": {
  "kernelspec": {
   "display_name": "Python 3",
   "language": "python",
   "name": "python3"
  },
  "language_info": {
   "codemirror_mode": {
    "name": "ipython",
    "version": 3
   },
   "file_extension": ".py",
   "mimetype": "text/x-python",
   "name": "python",
   "nbconvert_exporter": "python",
   "pygments_lexer": "ipython3",
   "version": "3.11.7"
  }
 },
 "nbformat": 4,
 "nbformat_minor": 2
}
