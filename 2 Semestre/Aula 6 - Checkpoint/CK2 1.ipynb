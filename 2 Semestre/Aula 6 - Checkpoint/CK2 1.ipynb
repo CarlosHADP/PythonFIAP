{
 "cells": [
  {
   "cell_type": "code",
   "execution_count": 1,
   "metadata": {},
   "outputs": [
    {
     "name": "stdout",
     "output_type": "stream",
     "text": [
      "Temperauras abaixo, Temperaturas acima ([21, 24, 28], [32, 33, 34, 34, 30, 32, 30])\n",
      "\n",
      "Relação Temperaturas: \n",
      "Dia 16 = 0.07\n",
      "Dia 17 = 0.10\n",
      "Dia 18 = 0.12\n",
      "Dia 19 = 0.12\n",
      "Dia 20 = 0.01\n",
      "Dia 21 = -0.42\n",
      "Dia 22 = -0.24\n",
      "Dia 23 = -0.06\n",
      "Dia 24 = 0.07\n",
      "Dia 25 = 0.01\n"
     ]
    }
   ],
   "source": [
    "dias = [16, 17, 18, 19, 20, 21, 22, 23, 24, 25]\n",
    "temperaturas = [32, 33, 34, 34, 30, 21, 24, 28, 32, 30]\n",
    "\n",
    "def mediasTemperaturas(temperaturas):\n",
    "    temp_abaixo = []\n",
    "    temp_acima = []\n",
    "\n",
    "    soma = sum(temperaturas)\n",
    "    media = soma / len(temperaturas)\n",
    "    for i in temperaturas:\n",
    "        if i < media:\n",
    "            temp_abaixo.append(i)\n",
    "        else:\n",
    "            temp_acima.append(i)\n",
    "    return temp_abaixo, temp_acima\n",
    "\n",
    "def relacaoTemperaturas(dias, temperaturas):\n",
    "\n",
    "    soma = sum(temperaturas)\n",
    "    temp_media = soma / len(temperaturas)\n",
    "\n",
    "    index = 0\n",
    "    \n",
    "    print(\"Relação Temperaturas: \")\n",
    "    for atual in temperaturas:\n",
    "        temperatura_relacao = (atual - temp_media) / atual\n",
    "\n",
    "        print(f\"Dia {dias[index]} = {temperatura_relacao:.2f}\")\n",
    "        index+=1\n",
    "    \n",
    "\n",
    "\n",
    "print(f\"Temperauras abaixo, Temperaturas acima {mediasTemperaturas(temperaturas)}\")\n",
    "print()\n",
    "relacaoTemperaturas(dias, temperaturas)"
   ]
  },
  {
   "cell_type": "code",
   "execution_count": 15,
   "metadata": {},
   "outputs": [
    {
     "ename": "SyntaxError",
     "evalue": "invalid syntax (1956698673.py, line 20)",
     "output_type": "error",
     "traceback": [
      "\u001b[1;36m  Cell \u001b[1;32mIn[15], line 20\u001b[1;36m\u001b[0m\n\u001b[1;33m    list(map(lambda i: if i == @:continue arroba+=i))\u001b[0m\n\u001b[1;37m                       ^\u001b[0m\n\u001b[1;31mSyntaxError\u001b[0m\u001b[1;31m:\u001b[0m invalid syntax\n"
     ]
    }
   ],
   "source": [
    "gmail = []\n",
    "yahoo = []\n",
    "hotmail = []\n",
    "\n",
    "email = [\n",
    "    \"joao@gmail.com\",\n",
    "    \"maria@yahoo.com\",\n",
    "    \"carlos@gmail.com\",\n",
    "    \"ana@hotmail.com\",\n",
    "    \"paulo@gmail.com\",\n",
    "    \"pedro@yahoo.com\",\n",
    "    \"claudia@hotmail.com\",\n",
    "    \"roberto@gmail.com\",\n",
    "]\n",
    "\n",
    "\n",
    "for j in range(len(email)):\n",
    "    arroba = \"\"\n",
    "    for i in email:\n",
    "        list(map(lambda i: if i == @:continue arroba+=i), email)\n",
    "    if arroba == \"gmail\":\n",
    "        gmail.append(arroba)\n",
    "    elif arroba = yahoo:\n",
    "        yahoo.append(arroba)\n",
    "    else:\n",
    "        hotmail.append(arroba)\n",
    "    \n",
    "print(gmail)\n",
    "print(yahoo)\n",
    "print(hotmail)\n"
   ]
  },
  {
   "cell_type": "code",
   "execution_count": 27,
   "metadata": {},
   "outputs": [
    {
     "ename": "SyntaxError",
     "evalue": "invalid syntax (4135322025.py, line 13)",
     "output_type": "error",
     "traceback": [
      "\u001b[1;36m  Cell \u001b[1;32mIn[27], line 13\u001b[1;36m\u001b[0m\n\u001b[1;33m    carros = list(map(lambda i:if i == @ {continue arroba+=i} , email))\u001b[0m\n\u001b[1;37m                               ^\u001b[0m\n\u001b[1;31mSyntaxError\u001b[0m\u001b[1;31m:\u001b[0m invalid syntax\n"
     ]
    }
   ],
   "source": [
    "email = [\n",
    "    \"joao@gmail.com\",\n",
    "    \"maria@yahoo.com\",\n",
    "    \"carlos@gmail.com\",\n",
    "    \"ana@hotmail.com\",\n",
    "    \"paulo@gmail.com\",\n",
    "    \"pedro@yahoo.com\",\n",
    "    \"claudia@hotmail.com\",\n",
    "    \"roberto@gmail.com\",\n",
    "]\n",
    "# if i == @:continue arroba+=i\n",
    "index = 0\n",
    "carros = list(map(lambda i:if i == @ {continue arroba+=i} , email))"
   ]
  },
  {
   "cell_type": "code",
   "execution_count": null,
   "metadata": {},
   "outputs": [],
   "source": [
    "cidades = [\"SP\", \"RJ\", \"RN\", \"SE\", \"TO\", \"CE\", \"DF\", \"MA\", \"PI\", \"SC\"]\n",
    "chuvas = [10, 45, 10, 0, 5, 32, 0, 105, 18, 34]\n",
    "\n",
    "def cidadesComChuva(cidades, chuvas):\n",
    "    cidades_com_chuva = []\n",
    "\n",
    "    index = 0\n",
    "\n",
    "    for i in cidades:\n",
    "        if chuvas[index] > 0:\n",
    "            cidades_com_chuva.append(i)\n",
    "            chuvas.append(chuvas[index])\n",
    "        index+=1\n",
    "    return cidades_com_chuva, chuvas\n",
    "\n",
    "def Choveu(cidades, chuvas)\n",
    "    cidades_com_chuva, chuvas = cidadesComChuva(cidades, chuvas)\n",
    "    for i in cidades_com_chuvas:\n",
    "        print(f\"Em {cidades_com_chuvas} choveu {chuvas[index]}mm\")\n",
    "\n",
    "    return cidades_com_chuva, chuvas \n",
    "Choveu(cidades, chuvas)"
   ]
  },
  {
   "cell_type": "code",
   "execution_count": 5,
   "metadata": {},
   "outputs": [
    {
     "ename": "SyntaxError",
     "evalue": "expected ':' (2782879910.py, line 16)",
     "output_type": "error",
     "traceback": [
      "\u001b[1;36m  Cell \u001b[1;32mIn[5], line 16\u001b[1;36m\u001b[0m\n\u001b[1;33m    def Choveu(cidades, chuvas)\u001b[0m\n\u001b[1;37m                               ^\u001b[0m\n\u001b[1;31mSyntaxError\u001b[0m\u001b[1;31m:\u001b[0m expected ':'\n"
     ]
    }
   ],
   "source": [
    "cidades = [\"SP\", \"RJ\", \"RN\", \"SE\", \"TO\", \"CE\", \"DF\", \"MA\", \"PI\", \"SC\"]\n",
    "chuvas = [10, 45, 10, 0, 5, 32, 0, 105, 18, 34]\n",
    "\n",
    "def cidadesComChuva(cidades, chuvas):\n",
    "    cidades_com_chuva = []\n",
    "\n",
    "    index = 0\n",
    "\n",
    "    for i in cidades:\n",
    "        if chuvas[index] > 0:\n",
    "            cidades_com_chuva.append(i)\n",
    "            chuvas.append(chuvas[index])\n",
    "        index+=1\n",
    "    return cidades_com_chuva, chuvas\n",
    "\n",
    "def Choveu(cidades, chuvas)\n",
    "    cidades_com_chuva, chuvas = cidadesComChuva(cidades, chuvas):\n",
    "    for i in cidades_com_chuvas:\n",
    "        print(f\"Em {cidades_com_chuvas} choveu {chuvas[index]}mm\")\n",
    "\n",
    "    return cidades_com_chuva, chuvas \n",
    "Choveu(cidades, chuvas)"
   ]
  },
  {
   "cell_type": "code",
   "execution_count": null,
   "metadata": {},
   "outputs": [],
   "source": [
    "#azzaaaaaaaaaaaaaaaaaaaaaaaaa"
   ]
  }
 ],
 "metadata": {
  "kernelspec": {
   "display_name": "Python 3",
   "language": "python",
   "name": "python3"
  },
  "language_info": {
   "codemirror_mode": {
    "name": "ipython",
    "version": 3
   },
   "file_extension": ".py",
   "mimetype": "text/x-python",
   "name": "python",
   "nbconvert_exporter": "python",
   "pygments_lexer": "ipython3",
   "version": "3.11.3"
  }
 },
 "nbformat": 4,
 "nbformat_minor": 2
}
