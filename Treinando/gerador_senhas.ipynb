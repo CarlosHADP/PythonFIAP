{
 "cells": [
  {
   "cell_type": "code",
   "execution_count": 19,
   "metadata": {},
   "outputs": [],
   "source": [
    "#(letras maiúsculas, minúsculas, números, caracteres especiais).\n",
    "def preferencias():\n",
    "    verificacao = []\n",
    "    prefer = [\"maiúsculas\", \"minúsculas\", \"números\", \"caracteres especiais\"]\n",
    "    for j in range(4):\n",
    "        j = input(f\"Quer {prefer[j]} ?\").lower()\n",
    "        verificacao.append(j)\n",
    "    cont = 0\n",
    "    for i in verificacao:\n",
    "        if i == \"y\":\n",
    "            verificacao[cont] = True\n",
    "        else:\n",
    "            verificacao[cont] = False\n",
    "        cont+=1\n",
    "\n",
    "\n",
    "    return verificacao\n"
   ]
  },
  {
   "cell_type": "code",
   "execution_count": 20,
   "metadata": {},
   "outputs": [],
   "source": [
    "import random\n",
    "\n",
    "maiusculas = [\"A\",\"B\",\"C\",\"D\",\"E\",\"F\",\"G\",\"H\",\"I\",\"J\",\"K\",\"L\",\"M\",\"N\",\"O\",\"P\",\"Q\",\"R\",\"S\",\"T\",\"U\",\"V\",\"W\",\"X\",\"Y\",\"Z\"]\n",
    "minusculas = ['a', 'b', 'c', 'd', 'e', 'f', 'g', 'h', 'i', 'j', 'k', 'l', 'm', 'n', 'o', 'p', 'q', 'r', 's', 't', 'u', 'v', 'w', 'x', 'y', 'z']\n",
    "numeros = [0,1,2,3,4,5,6,7,8,9]\n",
    "especiais = [\"!\",\"@\",\"#\",\"$\",\"%\",\"&\",\"*\",\"(\",\")\",\"^\",\"~\"]\n"
   ]
  },
  {
   "cell_type": "code",
   "execution_count": 38,
   "metadata": {},
   "outputs": [
    {
     "name": "stdout",
     "output_type": "stream",
     "text": [
      "Sua senha é: DCKmqh\n"
     ]
    }
   ],
   "source": [
    "verificacao = preferencias()\n",
    "senha = \"\"\n",
    "if verificacao[0] == True:\n",
    "    quant = int(input(\"Quantas maiusculas vai querer?\"))\n",
    "    for i in range(quant):\n",
    "        add = random.choice(maiusculas)\n",
    "        senha += add\n",
    "if verificacao[1] == True:\n",
    "    quant = int(input(\"Quantas minusculas vai querer?\"))\n",
    "    for i in range(quant):\n",
    "        add = random.choice(minusculas)\n",
    "        senha += add\n",
    "if verificacao[2] == True:\n",
    "    quant = int(input(\"Quantos numeros vai querer?\"))\n",
    "    for i in range(quant):\n",
    "        add = str(random.choice(numeros))\n",
    "        senha += add\n",
    "if verificacao[3] == True:\n",
    "    quant = int(input(\"Quantos char especiais vai querer?\"))\n",
    "    for i in range(quant):\n",
    "        add = random.choice(especiais)\n",
    "        senha += add\n",
    "\n",
    "# senha = list(senha)       \n",
    "# senha = random.shuffle(senha)\n",
    "# senha = \"\".join(senha)\n",
    "    \n",
    "print(f\"Sua senha é: {senha}\")"
   ]
  }
 ],
 "metadata": {
  "kernelspec": {
   "display_name": "Python 3",
   "language": "python",
   "name": "python3"
  },
  "language_info": {
   "codemirror_mode": {
    "name": "ipython",
    "version": 3
   },
   "file_extension": ".py",
   "mimetype": "text/x-python",
   "name": "python",
   "nbconvert_exporter": "python",
   "pygments_lexer": "ipython3",
   "version": "3.11.4"
  },
  "orig_nbformat": 4
 },
 "nbformat": 4,
 "nbformat_minor": 2
}
