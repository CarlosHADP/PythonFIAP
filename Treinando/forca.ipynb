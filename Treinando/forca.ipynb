{
 "cells": [
  {
   "cell_type": "code",
   "execution_count": 2,
   "metadata": {},
   "outputs": [],
   "source": [
    "import random\n",
    "palavras = [\n",
    "    \"abacaxi\", \"abelha\", \"abraço\", \"acordar\", \"adolescente\", \"agulha\", \"amarelo\", \"amizade\", \"amor\",\n",
    "    \"aniversário\", \"antena\", \"aprender\", \"aranha\", \"arco-íris\", \"arroz\", \"artesanato\", \"asa\", \"atleta\",\n",
    "    \"avião\", \"azedo\", \"babá\", \"bailarina\", \"bala\", \"banana\", \"banheiro\", \"barco\", \"bateria\", \"bebê\",\n",
    "    \"beijo\", \"bicicleta\", \"biscoito\", \"bola\", \"boneca\", \"borboleta\", \"brincadeira\", \"brinquedo\", \"cabelo\",\n",
    "    \"cadeira\", \"café\", \"caixa\", \"cama\", \"caminhão\", \"caneta\", \"canoa\", \"carro\", \"carta\", \"casa\",\n",
    "    \"casamento\", \"castelo\", \"cebola\", \"celular\", \"chave\", \"chocolate\", \"chuva\", \"cinema\", \"circo\", \"coelho\",\n",
    "    \"cola\", \"computador\", \"concerto\", \"copo\", \"coração\", \"coruja\", \"criança\", \"cuidado\", \"dança\", \"dentista\",\n",
    "    \"desenho\", \"dinossauro\", \"disco\", \"doce\", \"dormir\", \"dragão\", \"efeito\", \"elefante\", \"email\", \"escova\",\n",
    "    \"escritor\", \"escola\", \"escuro\", \"espaço\", \"espelho\", \"esporte\", \"estrela\", \"fada\", \"família\", \"fantasia\",\n",
    "    \"farinha\", \"fazenda\", \"feira\", \"feriado\", \"festa\", \"fita\", \"floresta\", \"flor\", \"fogo\", \"folha\",\n",
    "    \"fotografia\", \"frio\", \"fruta\", \"futebol\", \"gargalhada\", \"garfo\", \"gato\", \"gelado\", \"girafa\", \"guitarra\",\n",
    "    \"hamburguer\", \"hora\", \"igreja\", \"ilha\", \"impressora\", \"inverno\", \"janela\", \"jardim\", \"joaninha\", \"jogo\",\n",
    "    \"jornal\", \"lápis\", \"leão\", \"leite\", \"limão\", \"lua\", \"luz\", \"maçã\", \"mágica\", \"mala\",\n",
    "    \"mamãe\", \"mão\", \"mar\", \"margarida\", \"máscara\", \"médico\", \"menina\", \"menino\", \"mergulho\", \"mensagem\",\n",
    "    \"mês\", \"mexer\", \"milho\", \"minuto\", \"mochila\", \"mola\", \"montanha\", \"morcego\", \"morte\", \"mundo\",\n",
    "    \"música\", \"nariz\", \"navio\", \"noite\", \"nuvem\", \"olho\", \"ovo\", \"pássaro\", \"pão\", \"papai\",\n",
    "    \"papel\", \"parque\", \"partida\", \"passarinho\", \"pato\", \"pé\", \"pedra\", \"peixe\", \"pelúcia\", \"piano\",\n",
    "    \"picolé\", \"pipoca\", \"pirata\", \"piscina\", \"planeta\", \"planta\", \"praia\", \"prato\", \"presente\", \"princesa\",\n",
    "    \"professor\", \"programa\", \"projeto\", \"pronto\", \"pular\", \"quarto\", \"queijo\", \"quente\", \"rádio\", \"rápido\",\n",
    "    \"recado\", \"receita\", \"reino\", \"relógio\", \"resfriado\", \"risada\", \"roda\", \"roupa\", \"sabão\", \"sapato\",\n",
    "    \"saudade\", \"segredo\", \"sereia\", \"sinal\", \"sorriso\", \"sorvete\", \"telefone\", \"tênis\", \"tempo\", \"terra\",\n",
    "    \"tesouro\", \"tigre\", \"tijolo\", \"tinta\", \"toalha\", \"trem\", \"tristeza\", \"trovão\", \"urso\", \"uva\",\n",
    "    \"vela\", \"verão\", \"verde\", \"vermelho\", \"viagem\", \"vida\", \"vidro\", \"violão\", \"vôo\", \"xícara\",\n",
    "    \"zero\", \"zoológico\"\n",
    "]"
   ]
  },
  {
   "cell_type": "code",
   "execution_count": 3,
   "metadata": {},
   "outputs": [],
   "source": [
    "def jogar():\n",
    "    \n",
    "    running = True \n",
    "    pc = random.choice(palavras)\n",
    "    pc = list(pc)\n",
    "    adivinhado = []\n",
    "    pc_len = 0\n",
    "    adiv_len = 0\n",
    "    tentativas = 0\n",
    "    for i in pc:\n",
    "        pc_len+=1\n",
    "        \n",
    "    while running:\n",
    "        chute = input(\"chute:\").lower()\n",
    "        for i in pc:\n",
    "            if i == chute or i in adivinhado:\n",
    "                if i in adivinhado:\n",
    "                    print(i, end=\" \")\n",
    "                if i == chute and i not in adivinhado:\n",
    "                    adivinhado.append(i)\n",
    "                    adiv_len+=1\n",
    "                    print(i, end=\" \")\n",
    "            else:\n",
    "                tentativas+=1\n",
    "                print(\"_\", end=\" \")\n",
    "        print(\"\\n\")\n",
    "            \n",
    "        if tentativas == 10:\n",
    "            break           \n",
    "        if adiv_len == pc_len:\n",
    "            break"
   ]
  },
  {
   "cell_type": "code",
   "execution_count": null,
   "metadata": {},
   "outputs": [],
   "source": [
    "jogar()"
   ]
  }
 ],
 "metadata": {
  "kernelspec": {
   "display_name": "Python 3",
   "language": "python",
   "name": "python3"
  },
  "language_info": {
   "codemirror_mode": {
    "name": "ipython",
    "version": 3
   },
   "file_extension": ".py",
   "mimetype": "text/x-python",
   "name": "python",
   "nbconvert_exporter": "python",
   "pygments_lexer": "ipython3",
   "version": "3.11.3"
  },
  "orig_nbformat": 4
 },
 "nbformat": 4,
 "nbformat_minor": 2
}
