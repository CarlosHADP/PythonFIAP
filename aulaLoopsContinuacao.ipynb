{
 "cells": [
  {
   "cell_type": "code",
   "execution_count": 2,
   "metadata": {},
   "outputs": [
    {
     "name": "stdout",
     "output_type": "stream",
     "text": [
      "28\n"
     ]
    }
   ],
   "source": [
    "soma = 0 \n",
    "for i in range(8):\n",
    "    soma+=i\n",
    "\n",
    "print(soma)"
   ]
  },
  {
   "cell_type": "code",
   "execution_count": 4,
   "metadata": {},
   "outputs": [
    {
     "data": {
      "text/plain": [
       "[2, 4, 6, 12, 10, 8, 18, 16, 14, 20]"
      ]
     },
     "execution_count": 4,
     "metadata": {},
     "output_type": "execute_result"
    }
   ],
   "source": [
    "lista = [1,2,3,6,5,4,9,8,7,10]\n",
    "\n",
    "lista_nova = []\n",
    "\n",
    "for k in lista:\n",
    "    lista_nova.append(k*2)\n",
    "lista_nova"
   ]
  },
  {
   "cell_type": "code",
   "execution_count": 7,
   "metadata": {},
   "outputs": [],
   "source": [
    "nomes = []\n",
    "\n",
    "while not \"Parar\" in nomes:\n",
    "    nome = input(\"Digite um nome:\").capitalize()\n",
    "    nomes.append(nome)"
   ]
  },
  {
   "cell_type": "code",
   "execution_count": 8,
   "metadata": {},
   "outputs": [],
   "source": [
    "names = []\n",
    "limit = int(input(\"Digite um limite de nomes: \"))\n",
    "\n",
    "for i in range(limit):\n",
    "    nome = input(\"Digite um nome:\")\n",
    "    nomes.append(nome)\n",
    "    if \"parar\" in nomes:\n",
    "        break\n",
    "print(nomes)"
   ]
  },
  {
   "cell_type": "code",
   "execution_count": 10,
   "metadata": {},
   "outputs": [
    {
     "name": "stdout",
     "output_type": "stream",
     "text": [
      "P\n",
      "y\n",
      "t\n",
      "h\n",
      "o\n",
      "n\n",
      "J\n",
      "a\n",
      "v\n",
      "a\n",
      "S\n",
      "c\n",
      "r\n",
      "i\n",
      "p\n",
      "t\n",
      "C\n",
      "C\n",
      "S\n",
      "h\n",
      "a\n",
      "r\n",
      "p\n"
     ]
    }
   ],
   "source": [
    "palavras = [\"Python\", \"JavaScript\",\"C\",\"CSharp\"]\n",
    "\n",
    "for i in palavras:\n",
    "    for letras in i:\n",
    "        print(letras)"
   ]
  },
  {
   "cell_type": "code",
   "execution_count": 16,
   "metadata": {},
   "outputs": [
    {
     "name": "stdout",
     "output_type": "stream",
     "text": [
      "1 2 3 4 \n",
      "2 4 6 8 \n",
      "3 6 9 12 \n",
      "4 8 12 16 \n"
     ]
    }
   ],
   "source": [
    "for i in range(1,5):\n",
    "    for k in range(1,5):\n",
    "        print(i*k, end=\" \")\n",
    "    print()\n",
    "        "
   ]
  },
  {
   "cell_type": "code",
   "execution_count": 20,
   "metadata": {},
   "outputs": [
    {
     "name": "stdout",
     "output_type": "stream",
     "text": [
      "1 2 3 4 5 6 7 8 9 10 \n",
      "2 4 6 8 10 12 14 16 18 20 \n",
      "3 6 9 12 15 18 21 24 27 30 \n",
      "4 8 12 16 20 24 28 32 36 40 \n",
      "5 10 15 20 25 30 35 40 45 50 \n",
      "6 12 18 24 30 36 42 48 54 60 \n",
      "7 14 21 28 35 42 49 56 63 70 \n",
      "8 16 24 32 40 48 56 64 72 80 \n",
      "9 18 27 36 45 54 63 72 81 90 \n",
      "10 20 30 40 50 60 70 80 90 100 \n"
     ]
    }
   ],
   "source": [
    "for i in range(1,11):\n",
    "    for k in range(1,11):\n",
    "        print(i*k, end=\" \")\n",
    "    print()"
   ]
  },
  {
   "cell_type": "code",
   "execution_count": 31,
   "metadata": {},
   "outputs": [
    {
     "name": "stdout",
     "output_type": "stream",
     "text": [
      "[1, 2, 3, 4, 5, 6, 7, 8, 9, 10]\n",
      "[2, 4, 6, 8, 10, 12, 14, 16, 18, 20]\n",
      "[3, 6, 9, 12, 15, 18, 21, 24, 27, 30]\n",
      "[4, 8, 12, 16, 20, 24, 28, 32, 36, 40]\n"
     ]
    }
   ],
   "source": [
    "lista_mult = [[],[],[],[]]\n",
    "# limit = int(input(\"Ate que numero voce quer a tabuada?\"))\n",
    "cont = 0\n",
    "\n",
    "for i in range(1,5):\n",
    "    for k in range(1,11):\n",
    "        lista_mult[cont].append(i*k)\n",
    "    cont+=1\n",
    "for j in lista_mult:\n",
    "    print(j)"
   ]
  },
  {
   "cell_type": "code",
   "execution_count": 44,
   "metadata": {},
   "outputs": [
    {
     "name": "stdout",
     "output_type": "stream",
     "text": [
      "[2, 3, 4, 5, 6, 7, 8, 9, 10, 11, 3, 4, 5, 6, 7, 8, 9, 10, 11, 12, 4, 5, 6, 7, 8, 9, 10, 11, 12, 13, 5, 6, 7, 8, 9, 10, 11, 12, 13, 14, 6, 7, 8, 9, 10, 11, 12, 13, 14, 15, 7, 8, 9, 10, 11, 12, 13, 14, 15, 16, 8, 9, 10, 11, 12, 13, 14, 15, 16, 17, 9, 10, 11, 12, 13, 14, 15, 16, 17, 18, 10, 11, 12, 13, 14, 15, 16, 17, 18, 19, 11, 12, 13, 14, 15, 16, 17, 18, 19, 20]\n",
      "[0, -1, -2, -3, -4, -5, -6, -7, -8, -9, 1, 0, -1, -2, -3, -4, -5, -6, -7, -8, 2, 1, 0, -1, -2, -3, -4, -5, -6, -7, 3, 2, 1, 0, -1, -2, -3, -4, -5, -6, 4, 3, 2, 1, 0, -1, -2, -3, -4, -5, 5, 4, 3, 2, 1, 0, -1, -2, -3, -4, 6, 5, 4, 3, 2, 1, 0, -1, -2, -3, 7, 6, 5, 4, 3, 2, 1, 0, -1, -2, 8, 7, 6, 5, 4, 3, 2, 1, 0, -1, 9, 8, 7, 6, 5, 4, 3, 2, 1, 0]\n",
      "[1, 2, 3, 4, 5, 6, 7, 8, 9, 10, 2, 4, 6, 8, 10, 12, 14, 16, 18, 20, 3, 6, 9, 12, 15, 18, 21, 24, 27, 30, 4, 8, 12, 16, 20, 24, 28, 32, 36, 40, 5, 10, 15, 20, 25, 30, 35, 40, 45, 50, 6, 12, 18, 24, 30, 36, 42, 48, 54, 60, 7, 14, 21, 28, 35, 42, 49, 56, 63, 70, 8, 16, 24, 32, 40, 48, 56, 64, 72, 80, 9, 18, 27, 36, 45, 54, 63, 72, 81, 90, 10, 20, 30, 40, 50, 60, 70, 80, 90, 100]\n",
      "[1.0, 0.5, 0.3333333333333333, 0.25, 0.2, 0.16666666666666666, 0.14285714285714285, 0.125, 0.1111111111111111, 0.1, 2.0, 1.0, 0.6666666666666666, 0.5, 0.4, 0.3333333333333333, 0.2857142857142857, 0.25, 0.2222222222222222, 0.2, 3.0, 1.5, 1.0, 0.75, 0.6, 0.5, 0.42857142857142855, 0.375, 0.3333333333333333, 0.3, 4.0, 2.0, 1.3333333333333333, 1.0, 0.8, 0.6666666666666666, 0.5714285714285714, 0.5, 0.4444444444444444, 0.4, 5.0, 2.5, 1.6666666666666667, 1.25, 1.0, 0.8333333333333334, 0.7142857142857143, 0.625, 0.5555555555555556, 0.5, 6.0, 3.0, 2.0, 1.5, 1.2, 1.0, 0.8571428571428571, 0.75, 0.6666666666666666, 0.6, 7.0, 3.5, 2.3333333333333335, 1.75, 1.4, 1.1666666666666667, 1.0, 0.875, 0.7777777777777778, 0.7, 8.0, 4.0, 2.6666666666666665, 2.0, 1.6, 1.3333333333333333, 1.1428571428571428, 1.0, 0.8888888888888888, 0.8, 9.0, 4.5, 3.0, 2.25, 1.8, 1.5, 1.2857142857142858, 1.125, 1.0, 0.9, 10.0, 5.0, 3.3333333333333335, 2.5, 2.0, 1.6666666666666667, 1.4285714285714286, 1.25, 1.1111111111111112, 1.0]\n"
     ]
    }
   ],
   "source": [
    "lista_soma = []\n",
    "lista_sub = []\n",
    "lista_mult = []\n",
    "lista_div = []\n",
    "\n",
    "\n",
    "for i in range(1,11):\n",
    "    for k in range(1,11):\n",
    "\n",
    "            lista_soma.append(i+k)\n",
    "\n",
    "            lista_sub.append(i-k)\n",
    "\n",
    "            lista_mult.append(i*k)\n",
    "\n",
    "            lista_div.append(i/k)\n",
    "print(lista_soma)\n",
    "print(lista_sub)\n",
    "print(lista_mult)\n",
    "print(lista_div)"
   ]
  },
  {
   "cell_type": "code",
   "execution_count": 48,
   "metadata": {},
   "outputs": [
    {
     "name": "stdout",
     "output_type": "stream",
     "text": [
      "[6, 8, 10, 12]\n"
     ]
    }
   ],
   "source": [
    "lista1 = [1, 2, 3, 4]\n",
    "lista2 = [5, 6, 7, 8]\n",
    "\n",
    "soma = []\n",
    "\n",
    "\n",
    "for k in range(len(lista1)):\n",
    "    soma.append(lista1[k]+lista2[k])\n",
    "    \n",
    "\n",
    "print(soma)"
   ]
  },
  {
   "cell_type": "code",
   "execution_count": 50,
   "metadata": {},
   "outputs": [
    {
     "name": "stdout",
     "output_type": "stream",
     "text": [
      "2 * 1 = 2\n",
      "3 * 1 = 3\n",
      "3 * 2 = 6\n",
      "4 * 1 = 4\n",
      "4 * 2 = 8\n",
      "4 * 3 = 12\n"
     ]
    }
   ],
   "source": [
    "for i in range(1,5):\n",
    "    for k in range(1,5):\n",
    "        if i == k:\n",
    "            break\n",
    "        print(i, \"*\",k,\"=\", i*k)"
   ]
  }
 ],
 "metadata": {
  "kernelspec": {
   "display_name": "Python 3",
   "language": "python",
   "name": "python3"
  },
  "language_info": {
   "codemirror_mode": {
    "name": "ipython",
    "version": 3
   },
   "file_extension": ".py",
   "mimetype": "text/x-python",
   "name": "python",
   "nbconvert_exporter": "python",
   "pygments_lexer": "ipython3",
   "version": "3.11.4"
  },
  "orig_nbformat": 4
 },
 "nbformat": 4,
 "nbformat_minor": 2
}
