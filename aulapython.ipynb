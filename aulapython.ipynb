{
 "cells": [
  {
   "cell_type": "code",
   "execution_count": null,
   "metadata": {},
   "outputs": [],
   "source": [
    "age = int(input('Type your age: '))\n",
    "purchase_total = float(input('Enter the total of the purchase '))\n",
    "\n",
    "if age >= 65:\n",
    "    if purchase_total >= 100:\n",
    "        print('Your going to have 10% of discount')\n",
    "    else:\n",
    "        print('Your not elegible foi discount')\n",
    "else: print('Your out of the age for discount')"
   ]
  },
  {
   "cell_type": "code",
   "execution_count": 3,
   "metadata": {},
   "outputs": [
    {
     "name": "stdout",
     "output_type": "stream",
     "text": [
      "Your car is a Volvo! and was made between 2013 and 2015 !!\n",
      "Your car is out of the range of the years\n"
     ]
    }
   ],
   "source": [
    "car_year = int(input('Type the year of your car: '))\n",
    "car_brand = input('Whats the brand of your car?')\n",
    "\n",
    "if car_year >= 2013 and car_year <= 2015:\n",
    "    brand = input('Whats the brand?')\n",
    "    brand = brand.lower()\n",
    "    if brand == 'volvo':\n",
    "        print('Your car is a Volvo! and was made between 2013 and 2015 !!')\n",
    "    print('Your car is out of the range of the years')\n",
    "\n",
    "else:\n",
    "    print('You propabably have a new model!')"
   ]
  },
  {
   "cell_type": "code",
   "execution_count": 7,
   "metadata": {},
   "outputs": [
    {
     "name": "stdout",
     "output_type": "stream",
     "text": [
      "It's breakfast time and It's time to go on a walk!\n"
     ]
    }
   ],
   "source": [
    "hour = int(input('What hour is it?'))\n",
    "temperature = int(input('How many degrees is outside?'))\n",
    "\n",
    "if 6 <= hour < 12 and temperature > 20:\n",
    "    print(\"It's breakfast time and It's time to go on a walk!\")\n",
    "elif 12 < hour < 18 and temperature > 25:\n",
    "    print(\"It's lunch time, amd let's eat in the park\")\n",
    "else:\n",
    "    print('Relax at home')"
   ]
  },
  {
   "cell_type": "code",
   "execution_count": 8,
   "metadata": {},
   "outputs": [
    {
     "name": "stdout",
     "output_type": "stream",
     "text": [
      "Your order will be ready soon!\n",
      "Your order is on special packing!\n"
     ]
    }
   ],
   "source": [
    "age = int(input(\"What's order age ?\"))\n",
    "client = input(\"What's the type of the client?\").upper()\n",
    "\n",
    "if age < 7 and 'VIP':\n",
    "    print('Your order is being preparing on express service!')\n",
    "else: \n",
    "    print('Your order will be ready soon!')\n",
    "if 7 < age < 14 and 'VIP':\n",
    "    print('Your order is on special packing!')\n",
    "else:\n",
    "    print('Your order is being preparing')\n",
    "    print('Your order is arriving')"
   ]
  },
  {
   "cell_type": "code",
   "execution_count": 20,
   "metadata": {},
   "outputs": [
    {
     "name": "stdout",
     "output_type": "stream",
     "text": [
      "Dica a senha são frutas !!!\n",
      "Dica coloque 'safe' no final da sua fruta\n",
      "Oi banana\n",
      "Bem vindo carlos !\n"
     ]
    }
   ],
   "source": [
    "user = input('Qual seu user: ').lower()\n",
    "\n",
    "senhas = ['banana','maca','manga','goiaba']\n",
    "lista_safe_word = ['bananasafe', 'macasafe','mangasafe','goiabasafe'] \n",
    "\n",
    "if user != '':\n",
    "    print('Dica a senha são frutas !!!')\n",
    "    password = input('Type your password:').lower()\n",
    "    if password != '' and password in senhas:\n",
    "        print(\"Dica coloque 'safe' no final da sua fruta\")\n",
    "        print(f'Oi '+ password)\n",
    "        safe_word = input('Qual a palavra de segurança?')\n",
    "        if safe_word in lista_safe_word:\n",
    "            print(f'Bem vindo {user} !')\n",
    "        else:\n",
    "            print('Palavra passe incorreta!')\n",
    "    else:\n",
    "        print('Senha incorreta')\n",
    "else:\n",
    "    print('Voce precisa digitar um user')"
   ]
  },
  {
   "cell_type": "code",
   "execution_count": null,
   "metadata": {},
   "outputs": [],
   "source": [
    "for i in range "
   ]
  }
 ],
 "metadata": {
  "kernelspec": {
   "display_name": "Python 3",
   "language": "python",
   "name": "python3"
  },
  "language_info": {
   "codemirror_mode": {
    "name": "ipython",
    "version": 3
   },
   "file_extension": ".py",
   "mimetype": "text/x-python",
   "name": "python",
   "nbconvert_exporter": "python",
   "pygments_lexer": "ipython3",
   "version": "3.11.4"
  },
  "orig_nbformat": 4
 },
 "nbformat": 4,
 "nbformat_minor": 2
}
