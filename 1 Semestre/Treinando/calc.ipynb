{
 "cells": [
  {
   "cell_type": "code",
   "execution_count": 8,
   "metadata": {},
   "outputs": [],
   "source": [
    "media = []\n",
    "\n",
    "isTrue = \"\"\n",
    "def infinito():\n",
    "    for i in range(1,6):\n",
    "        i = int(input(f\"Number {i}\"))\n",
    "        media.append(i)\n",
    "\n",
    "\n",
    "def mediaCalc():\n",
    "    soma = 0\n",
    "    print(\"Digite os numeros que quer calcular a media\")\n",
    "    infinito()\n",
    "    isTrue = input(\"Quer continuar digitando numeros(Y/N)?\").upper()\n",
    "    while isTrue == \"Y\":\n",
    "        infinito()\n",
    "        isTrue = input(\"Quer continuar digitando numeros(Y/N)?\").upper()\n",
    "    else:\n",
    "        for j in media:\n",
    "            soma+=j\n",
    "        soma /= len(media)\n",
    "        return soma, len(media)\n"
   ]
  },
  {
   "cell_type": "code",
   "execution_count": 10,
   "metadata": {},
   "outputs": [
    {
     "name": "stdout",
     "output_type": "stream",
     "text": [
      "Digite os numeros que quer calcular a media\n"
     ]
    },
    {
     "data": {
      "text/plain": [
       "(7.8, 20)"
      ]
     },
     "execution_count": 10,
     "metadata": {},
     "output_type": "execute_result"
    }
   ],
   "source": [
    "mediaCalc()"
   ]
  }
 ],
 "metadata": {
  "kernelspec": {
   "display_name": "Python 3",
   "language": "python",
   "name": "python3"
  },
  "language_info": {
   "codemirror_mode": {
    "name": "ipython",
    "version": 3
   },
   "file_extension": ".py",
   "mimetype": "text/x-python",
   "name": "python",
   "nbconvert_exporter": "python",
   "pygments_lexer": "ipython3",
   "version": "3.11.4"
  },
  "orig_nbformat": 4
 },
 "nbformat": 4,
 "nbformat_minor": 2
}
