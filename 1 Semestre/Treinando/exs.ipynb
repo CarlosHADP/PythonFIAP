{
 "cells": [
  {
   "cell_type": "code",
   "execution_count": 21,
   "metadata": {},
   "outputs": [
    {
     "name": "stdout",
     "output_type": "stream",
     "text": [
      "Tem 5 palavras nesse texto\n"
     ]
    }
   ],
   "source": [
    "# Contador de Palavras\n",
    "\n",
    "texto = input(\"\")\n",
    "palavras = texto.split()\n",
    "ins = 0\n",
    "for elemento in palavras:\n",
    "    ins+=1\n",
    "    \n",
    "print(f\"Tem {ins} palavras nesse texto\")\n"
   ]
  },
  {
   "cell_type": "code",
   "execution_count": 2,
   "metadata": {},
   "outputs": [
    {
     "name": "stdout",
     "output_type": "stream",
     "text": [
      "Nao e um palindromo\n"
     ]
    }
   ],
   "source": [
    "# Verificador de Palíndromo\n",
    "palavra = str(input(\"\"))\n",
    "palindromo = \"\"\n",
    "\n",
    "for i in palavra:\n",
    "    palindromo = i + palindromo\n",
    "\n",
    "print(\"SIM e um palindromo\" if palavra == palindromo else \"Nao e um palindromo\")"
   ]
  },
  {
   "cell_type": "code",
   "execution_count": 86,
   "metadata": {},
   "outputs": [
    {
     "name": "stdout",
     "output_type": "stream",
     "text": [
      "Ta pra cima!\n",
      "Ta pra cima!\n",
      "Ta pra cima!\n",
      "Ta pra cima!\n",
      "Congrats, you got it right !\n"
     ]
    }
   ],
   "source": [
    "import random\n",
    "\n",
    "def randomico(n):\n",
    "    number = random.randint(0,n)\n",
    "    chute = \"n\"\n",
    "    while chute != number:\n",
    "        chute = int(input(\"Try to guess the number (its between 0 and the number you choose)\"))\n",
    "        if chute > number:\n",
    "            print(\"O numero ta pra baixo\")\n",
    "        else:\n",
    "            print(\"Ta pra cima!\")\n",
    "    print(\"Congrats, you got it right !\")\n",
    "    \n",
    "        \n",
    "\n",
    "randomico(11)"
   ]
  },
  {
   "cell_type": "code",
   "execution_count": 110,
   "metadata": {},
   "outputs": [
    {
     "name": "stdout",
     "output_type": "stream",
     "text": [
      "Esse texto tem 1 vogal e\n",
      "1 consoante!\n"
     ]
    }
   ],
   "source": [
    "texto = str(input(\"\")).lower()\n",
    "lista = [\"a\",\"e\",\"i\",\"o\",\"u\"]\n",
    "consoante = 0\n",
    "vogal = 0\n",
    "for i in texto:\n",
    "    if i in lista:\n",
    "        vogal+=1\n",
    "    else:\n",
    "        consoante+=1\n",
    "p_consoante = \"consoante\" if consoante == 1 else \"consoantes\"\n",
    "p_vogal = \"vogal\" if vogal == 1 else \"vogais\"\n",
    "        \n",
    "print(f\"Esse texto tem {vogal} {p_vogal} e\\n{consoante} {p_consoante}!\")"
   ]
  },
  {
   "cell_type": "code",
   "execution_count": null,
   "metadata": {},
   "outputs": [],
   "source": [
    "# exam test\n",
    "def check_exam(arr1,arr2) -> int:\n",
    "    score = 0 \n",
    "    cont = 0\n",
    "    for i in arr1:\n",
    "        if i == arr2[cont]:\n",
    "            score+=4\n",
    "        elif i != arr2[cont] and arr2[cont] != \"\":\n",
    "            score -=1\n",
    "        else:\n",
    "            score+=0\n",
    "        cont+=1\n",
    "    return score if score > 0 else 0 "
   ]
  },
  {
   "cell_type": "markdown",
   "metadata": {},
   "source": [
    "LAMBDA"
   ]
  },
  {
   "cell_type": "code",
   "execution_count": 4,
   "metadata": {},
   "outputs": [
    {
     "name": "stdout",
     "output_type": "stream",
     "text": [
      "11\n"
     ]
    }
   ],
   "source": [
    "print((lambda x,y: x+y)(6,5))"
   ]
  },
  {
   "cell_type": "code",
   "execution_count": 5,
   "metadata": {},
   "outputs": [
    {
     "name": "stdout",
     "output_type": "stream",
     "text": [
      "[27, 64, 125, 216, 343, 512, 729]\n"
     ]
    }
   ],
   "source": [
    "def maps(my_function,my_iterable):\n",
    "    result = []\n",
    "    for item in my_iterable:\n",
    "        new_item = my_function(item)\n",
    "        result.append(new_item)\n",
    "    return result\n",
    "\n",
    "nums = [3,4,5,6,7,8,9]\n",
    "\n",
    "\n",
    "cube = maps(lambda x: x**3, nums)\n",
    "\n",
    "print(cube)"
   ]
  },
  {
   "cell_type": "code",
   "execution_count": 21,
   "metadata": {},
   "outputs": [
    {
     "name": "stdout",
     "output_type": "stream",
     "text": [
      "276\n",
      "50000.159999999996\n"
     ]
    }
   ],
   "source": [
    "q = 1000 - 4*181\n",
    "print(q)\n",
    "print(q*181.16)"
   ]
  },
  {
   "cell_type": "code",
   "execution_count": 23,
   "metadata": {},
   "outputs": [
    {
     "name": "stdout",
     "output_type": "stream",
     "text": [
      "723.6\n",
      "50000.759999999995\n"
     ]
    }
   ],
   "source": [
    "q = 1000 - 4*69.10\n",
    "print(q)\n",
    "print(q*69.10)"
   ]
  },
  {
   "cell_type": "code",
   "execution_count": 24,
   "metadata": {},
   "outputs": [
    {
     "name": "stdout",
     "output_type": "stream",
     "text": [
      "500\n",
      "62500\n"
     ]
    }
   ],
   "source": [
    "q = 1000 - 4*125\n",
    "print(q)\n",
    "print(q*125)"
   ]
  },
  {
   "cell_type": "code",
   "execution_count": 26,
   "metadata": {},
   "outputs": [
    {
     "name": "stdout",
     "output_type": "stream",
     "text": [
      "31.384283767209997\n"
     ]
    }
   ],
   "source": [
    "dados = 10 \n",
    "\n",
    "for i in range(12):\n",
    "    dados += dados*0.10\n",
    "\n",
    "print(dados)"
   ]
  }
 ],
 "metadata": {
  "kernelspec": {
   "display_name": "Python 3",
   "language": "python",
   "name": "python3"
  },
  "language_info": {
   "codemirror_mode": {
    "name": "ipython",
    "version": 3
   },
   "file_extension": ".py",
   "mimetype": "text/x-python",
   "name": "python",
   "nbconvert_exporter": "python",
   "pygments_lexer": "ipython3",
   "version": "3.11.3"
  }
 },
 "nbformat": 4,
 "nbformat_minor": 2
}
