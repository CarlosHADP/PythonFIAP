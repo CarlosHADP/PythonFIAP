{
 "cells": [
  {
   "cell_type": "code",
   "execution_count": null,
   "metadata": {},
   "outputs": [],
   "source": [
    "age = int(input('Type your age: '))\n",
    "purchase_total = float(input('Enter the total of the purchase '))\n",
    "\n",
    "if age >= 65:\n",
    "    if purchase_total >= 100:\n",
    "        print('Your going to have 10% of discount')\n",
    "    else:\n",
    "        print('Your not elegible foi discount')\n",
    "else: print('Your out of the age for discount')"
   ]
  },
  {
   "cell_type": "code",
   "execution_count": null,
   "metadata": {},
   "outputs": [],
   "source": [
    "car_year = int(input('Type the year of your car: '))\n",
    "car_brand = input('Whats the brand of your car?')\n",
    "\n",
    "if car_year >= 2013 and car_year <= 2015:\n",
    "    brand = input('Whats the brand?')\n",
    "    brand = brand.lower()\n",
    "    if brand == 'volvo':\n",
    "        print('Your car is a Volvo! and was made between 2013 and 2015 !!')\n",
    "    print('Your car is out of the range of the years')\n",
    "\n",
    "else:\n",
    "    print('You propabably have a new model!')"
   ]
  },
  {
   "cell_type": "code",
   "execution_count": null,
   "metadata": {},
   "outputs": [],
   "source": [
    "hour = int(input('What hour is it?'))\n",
    "temperature = int(input('How many degrees is outside?'))\n",
    "\n",
    "if 6 <= hour < 12 and temperature > 20:\n",
    "    print(\"It's breakfast time and It's time to go on a walk!\")\n",
    "elif 12 < hour < 18 and temperature > 25:\n",
    "    print(\"It's lunch time, amd let's eat in the park\")\n",
    "else:\n",
    "    print('Relax at home')"
   ]
  },
  {
   "cell_type": "code",
   "execution_count": null,
   "metadata": {},
   "outputs": [],
   "source": [
    "age = int(input(\"What's order age ?\"))\n",
    "client = input(\"What's the type of the client?\").upper()\n",
    "\n",
    "if age < 7 and 'VIP':\n",
    "    print('Your order is being preparing on express service!')\n",
    "else: \n",
    "    print('Your order will be ready soon!')\n",
    "if 7 < age < 14 and 'VIP':\n",
    "    print('Your order is on special packing!')\n",
    "else:\n",
    "    print('Your order is being preparing')\n",
    "    print('Your order is arriving')"
   ]
  },
  {
   "cell_type": "code",
   "execution_count": null,
   "metadata": {},
   "outputs": [],
   "source": [
    "user = input('Qual seu user: ').lower()\n",
    "\n",
    "senhas = ['banana','maca','manga','goiaba']\n",
    "lista_safe_word = ['bananasafe', 'macasafe','mangasafe','goiabasafe'] \n",
    "\n",
    "if user != '':\n",
    "    print('Dica a senha são frutas !!!')\n",
    "    password = input('Type your password:').lower()\n",
    "    if password != '' and password in senhas:\n",
    "        print(\"Dica coloque 'safe' no final da sua fruta\")\n",
    "        print(f'Oi '+ password)\n",
    "        safe_word = input('Qual a palavra de segurança?')\n",
    "        if safe_word in lista_safe_word:\n",
    "            print(f'Bem vindo {user} !')\n",
    "        else:\n",
    "            print('Palavra passe incorreta!')\n",
    "    else:\n",
    "        print('Senha incorreta')\n",
    "else:\n",
    "    print('Voce precisa digitar um user')"
   ]
  },
  {
   "cell_type": "code",
   "execution_count": null,
   "metadata": {},
   "outputs": [],
   "source": [
    "for i in range(10):\n",
    "    print('be')"
   ]
  },
  {
   "cell_type": "code",
   "execution_count": null,
   "metadata": {},
   "outputs": [],
   "source": [
    "user = input('Qual seu user: ').lower()\n",
    "\n",
    "senhas = ['banana','maca','manga','goiaba']\n",
    "lista_safe_word = ['bananasafe', 'macasafe','mangasafe','goiabasafe'] \n",
    "count = 0\n",
    "if user != '':\n",
    "    print('Dica a senha são frutas !!!')\n",
    "    password = input('Type your password:').lower()\n",
    "    while password == '' or password not in senhas:\n",
    "        print('Senha incorreta!')\n",
    "        count += 1\n",
    "        password = input('Type your password:').lower()\n",
    "        if count == 2:\n",
    "            print('Ultima tentativa')\n",
    "        elif count == 3:\n",
    "            break\n",
    "        \n",
    "    if password != '' and password in senhas:\n",
    "        print(\"Dica coloque 'safe' no final da sua fruta\")\n",
    "        print(f'Oi '+ password)\n",
    "        safe_word = input('Qual a palavra de segurança?')\n",
    "        while safe_word == '' or safe_word not in lista_safe_word:\n",
    "            print('Palavra passe incorreta')\n",
    "            count += 1\n",
    "            safe_word = input('Qual a palavra de segurança?')\n",
    "            if count == 2:\n",
    "                print('Ultima tentativa')\n",
    "            elif count == 3:\n",
    "                break\n",
    "        if safe_word in lista_safe_word:\n",
    "            print(f'Bem vindo {user} !')\n",
    "        else:\n",
    "            print('Palavra passe incorreta!')\n",
    "    else:\n",
    "        print('Senha incorreta')\n",
    "else:\n",
    "    print('Voce precisa digitar um user')"
   ]
  },
  {
   "cell_type": "code",
   "execution_count": null,
   "metadata": {},
   "outputs": [],
   "source": [
    "contador = 10\n",
    "\n",
    "while contador > 0:\n",
    "    contador -= 1\n",
    "    print(contador)"
   ]
  },
  {
   "cell_type": "code",
   "execution_count": null,
   "metadata": {},
   "outputs": [],
   "source": [
    "#PythonTutor \n",
    "#para mostrar graficamente o codigo.\n",
    "#aprender melhor\n",
    "\n",
    "resultado = 1\n",
    "numero = 0 \n",
    "\n",
    "while numero < 5:\n",
    "    numero += 1\n",
    "    resultado *= numero\n",
    "    print(resultado)"
   ]
  },
  {
   "cell_type": "code",
   "execution_count": null,
   "metadata": {},
   "outputs": [],
   "source": [
    "lista = ['be', 'mauricio']\n",
    "print(lista[0])"
   ]
  },
  {
   "cell_type": "code",
   "execution_count": null,
   "metadata": {},
   "outputs": [],
   "source": [
    "temp_celsius = 0\n",
    "temp_farenheit = float(input('Insira um valor de temperatura'))\n",
    "    \n",
    "while temp_farenheit != 0:\n",
    "    temp_celsius = (5/9) * (temp_farenheit - 32)\n",
    "    print(f'{temp_farenheit}F° {temp_celsius}C°')\n",
    "    temp_farenheit = float(input('Insira um valor de temperatura'))\n"
   ]
  },
  {
   "cell_type": "code",
   "execution_count": null,
   "metadata": {},
   "outputs": [],
   "source": [
    "n = int(input('Digite um numero?'))\n",
    "contador = 0\n",
    "\n",
    "while contador < n:\n",
    "    contador+=1\n",
    "    print(contador)"
   ]
  },
  {
   "cell_type": "code",
   "execution_count": 11,
   "metadata": {},
   "outputs": [
    {
     "name": "stdout",
     "output_type": "stream",
     "text": [
      "1\n",
      "2\n",
      "3\n",
      "4\n",
      "5\n",
      "6\n",
      "7\n",
      "8\n",
      "9\n",
      "10\n",
      "9\n",
      "8\n",
      "7\n",
      "6\n",
      "5\n",
      "4\n",
      "3\n",
      "2\n",
      "1\n",
      "0\n"
     ]
    }
   ],
   "source": [
    "contagem = 0\n",
    "\n",
    "while contagem < 10:\n",
    "    contagem+=1\n",
    "    print(contagem)\n",
    "while contagem > 0:\n",
    "    contagem-=1\n",
    "    print(contagem) "
   ]
  },
  {
   "cell_type": "code",
   "execution_count": null,
   "metadata": {},
   "outputs": [],
   "source": [
    "frase = input('Digite uma frase: ')\n",
    "\n",
    "contagem = 0 \n",
    "i = 0\n",
    "\n",
    "while i < len(frase):\n",
    "    if frase[i] == 'a':\n",
    "        contagem+=1\n",
    "    i+=1\n",
    "print(f'A quantidade de As é {contagem}')"
   ]
  },
  {
   "cell_type": "code",
   "execution_count": 20,
   "metadata": {},
   "outputs": [
    {
     "name": "stdout",
     "output_type": "stream",
     "text": [
      "s\n"
     ]
    }
   ],
   "source": [
    "usuario = input('Digite sue nome de usuario: ')\n",
    "ultimaLetra = usuario[len(usuario)-1]\n",
    "print(ultimaLetra)"
   ]
  },
  {
   "cell_type": "code",
   "execution_count": null,
   "metadata": {},
   "outputs": [],
   "source": [
    "n = [1,2,3,4,5,6,7,8,9]\n",
    "\n",
    "soma = 0 \n",
    "indice = 0\n",
    "\n",
    "while indice < len(n):\n",
    "    soma+= n[i]\n",
    "    indice+=1\n",
    "\n",
    "media = soma / len(n)\n",
    "print(media)"
   ]
  }
 ],
 "metadata": {
  "kernelspec": {
   "display_name": "Python 3",
   "language": "python",
   "name": "python3"
  },
  "language_info": {
   "codemirror_mode": {
    "name": "ipython",
    "version": 3
   },
   "file_extension": ".py",
   "mimetype": "text/x-python",
   "name": "python",
   "nbconvert_exporter": "python",
   "pygments_lexer": "ipython3",
   "version": "3.11.4"
  },
  "orig_nbformat": 4
 },
 "nbformat": 4,
 "nbformat_minor": 2
}
