{
 "cells": [
  {
   "cell_type": "code",
   "execution_count": null,
   "metadata": {},
   "outputs": [],
   "source": [
    "%pip install pandas"
   ]
  },
  {
   "cell_type": "code",
   "execution_count": 4,
   "metadata": {},
   "outputs": [],
   "source": [
    "import pandas as pd"
   ]
  },
  {
   "cell_type": "code",
   "execution_count": 1,
   "metadata": {},
   "outputs": [
    {
     "data": {
      "text/plain": [
       "{'A': [1, 2, 3, 4, 5], 'B': ['a', 'b', 'c', 'd', 'e']}"
      ]
     },
     "execution_count": 1,
     "metadata": {},
     "output_type": "execute_result"
    }
   ],
   "source": [
    "dados = {\"A\":[1,2,3,4,5],\n",
    "         \"B\":[\"a\",\"b\",\"c\",\"d\",\"e\"]}\n",
    "\n",
    "dados"
   ]
  },
  {
   "cell_type": "code",
   "execution_count": 5,
   "metadata": {},
   "outputs": [
    {
     "data": {
      "text/html": [
       "<div>\n",
       "<style scoped>\n",
       "    .dataframe tbody tr th:only-of-type {\n",
       "        vertical-align: middle;\n",
       "    }\n",
       "\n",
       "    .dataframe tbody tr th {\n",
       "        vertical-align: top;\n",
       "    }\n",
       "\n",
       "    .dataframe thead th {\n",
       "        text-align: right;\n",
       "    }\n",
       "</style>\n",
       "<table border=\"1\" class=\"dataframe\">\n",
       "  <thead>\n",
       "    <tr style=\"text-align: right;\">\n",
       "      <th></th>\n",
       "      <th>A</th>\n",
       "      <th>B</th>\n",
       "    </tr>\n",
       "  </thead>\n",
       "  <tbody>\n",
       "    <tr>\n",
       "      <th>0</th>\n",
       "      <td>1</td>\n",
       "      <td>a</td>\n",
       "    </tr>\n",
       "    <tr>\n",
       "      <th>1</th>\n",
       "      <td>2</td>\n",
       "      <td>b</td>\n",
       "    </tr>\n",
       "    <tr>\n",
       "      <th>2</th>\n",
       "      <td>3</td>\n",
       "      <td>c</td>\n",
       "    </tr>\n",
       "    <tr>\n",
       "      <th>3</th>\n",
       "      <td>4</td>\n",
       "      <td>d</td>\n",
       "    </tr>\n",
       "    <tr>\n",
       "      <th>4</th>\n",
       "      <td>5</td>\n",
       "      <td>e</td>\n",
       "    </tr>\n",
       "  </tbody>\n",
       "</table>\n",
       "</div>"
      ],
      "text/plain": [
       "   A  B\n",
       "0  1  a\n",
       "1  2  b\n",
       "2  3  c\n",
       "3  4  d\n",
       "4  5  e"
      ]
     },
     "execution_count": 5,
     "metadata": {},
     "output_type": "execute_result"
    }
   ],
   "source": [
    "df = pd.DataFrame(dados)\n",
    "df"
   ]
  },
  {
   "cell_type": "code",
   "execution_count": 3,
   "metadata": {},
   "outputs": [
    {
     "name": "stdout",
     "output_type": "stream",
     "text": [
      "1\n",
      "2\n",
      "3\n",
      "4\n",
      "5\n",
      "6\n",
      "7\n",
      "8\n",
      "9\n",
      "10\n",
      "11\n"
     ]
    }
   ],
   "source": [
    "def cont(n):\n",
    "    for i in range(1,n+1):\n",
    "        print(i)\n",
    "\n",
    "cont(11)"
   ]
  },
  {
   "cell_type": "code",
   "execution_count": 14,
   "metadata": {},
   "outputs": [
    {
     "name": "stdout",
     "output_type": "stream",
     "text": [
      "Cor Azul\n",
      "Cor Amarelo\n",
      "Cor Verde\n"
     ]
    }
   ],
   "source": [
    "def verify(cores):\n",
    "    for i in cores:\n",
    "        print(f\"Cor {i}\")\n",
    "\n",
    "verify([\"Azul\",\"Amarelo\",\"Verde\"])"
   ]
  },
  {
   "cell_type": "code",
   "execution_count": 2,
   "metadata": {},
   "outputs": [
    {
     "data": {
      "text/plain": [
       "'O total das despesas do mes foi de 1140.0'"
      ]
     },
     "execution_count": 2,
     "metadata": {},
     "output_type": "execute_result"
    }
   ],
   "source": [
    "lista_meses = [\"Janeiro\",\"Fevereiro\",\"Março\"]\n",
    "def calculadora(meses):\n",
    "    total = 0\n",
    "    for i in range(len(meses)):\n",
    "        despesas = float(input(f\"Digite as despesas do mes\"))\n",
    "        total+=despesas\n",
    "    return f\"O total das despesas do mes foi de {total}\"\n",
    "\n",
    "calculadora(lista_meses)"
   ]
  },
  {
   "cell_type": "code",
   "execution_count": 34,
   "metadata": {},
   "outputs": [
    {
     "name": "stdout",
     "output_type": "stream",
     "text": [
      "Para sair do loop de perguntas digite '-999'\n"
     ]
    },
    {
     "data": {
      "text/plain": [
       "(10.0, 50.0, 30.0, 30.0)"
      ]
     },
     "execution_count": 34,
     "metadata": {},
     "output_type": "execute_result"
    }
   ],
   "source": [
    "def monitorando():\n",
    "    print(\"Para sair do loop de perguntas digite '-999'\")\n",
    "    temp = []\n",
    "    media = 0\n",
    "    mediana = 0 \n",
    "    while True:\n",
    "        temperatura = float(input(\"\"))\n",
    "        if temperatura == -999:\n",
    "            break\n",
    "        temp.append(temperatura)\n",
    "        media+=temperatura\n",
    "    media/=len(temp)\n",
    "\n",
    "    temp = sorted(temp)\n",
    "    if len(temp) % 2 != 0:\n",
    "        mediana = temp[int(len(temp)/2)]\n",
    "    else:\n",
    "        mediana = ((temp[int(len(temp)/2 + 0.5)]) + (temp[int(len(temp)/2 - 0.5)]))/2\n",
    "    \n",
    "\n",
    "    return min(temp), max(temp), media,mediana\n",
    "\n",
    "monitorando()"
   ]
  },
  {
   "cell_type": "code",
   "execution_count": 37,
   "metadata": {},
   "outputs": [
    {
     "name": "stdout",
     "output_type": "stream",
     "text": [
      "Para sair do loop de perguntas digite '-999'\n"
     ]
    },
    {
     "data": {
      "text/plain": [
       "(0, 0, 50.0, 50.0)"
      ]
     },
     "execution_count": 37,
     "metadata": {},
     "output_type": "execute_result"
    }
   ],
   "source": [
    "def monitorando():\n",
    "    print(\"Para sair do loop de perguntas digite '-999'\")\n",
    "    temp = []\n",
    "    media = 0\n",
    "    mediana = 0 \n",
    "    while True:\n",
    "        temperatura = float(input(\"\"))\n",
    "        if temperatura == -999:\n",
    "            break\n",
    "        temp.append(temperatura)\n",
    "        media+=temperatura\n",
    "    media/=len(temp)\n",
    "\n",
    "\n",
    "#CALCULANDO MAXIMO E MINIMO\n",
    "    cont = 0\n",
    "    maximo = 0\n",
    "    minimo = 0\n",
    "    for i in temp:\n",
    "        if cont + 1 < len(temp):\n",
    "            break\n",
    "        if i[cont] > i[cont + 1]:\n",
    "            maximo = i\n",
    "        if i[cont] < i[cont + 1]:\n",
    "            minimo = i\n",
    "        cont+=1\n",
    "\n",
    "\n",
    "# CALCULANDO MEDIANA\n",
    "    temp = sorted(temp)\n",
    "    if len(temp) % 2 != 0:\n",
    "        mediana = temp[int(len(temp)/2)]\n",
    "    else:\n",
    "        mediana = ((temp[int(len(temp)/2 + 0.5)]) + (temp[int(len(temp)/2 - 0.5)]))/2\n",
    "    \n",
    "\n",
    "#RETORNANDO\n",
    "    return minimo, maximo, media,mediana\n",
    "\n",
    "monitorando()"
   ]
  }
 ],
 "metadata": {
  "kernelspec": {
   "display_name": "Python 3",
   "language": "python",
   "name": "python3"
  },
  "language_info": {
   "codemirror_mode": {
    "name": "ipython",
    "version": 3
   },
   "file_extension": ".py",
   "mimetype": "text/x-python",
   "name": "python",
   "nbconvert_exporter": "python",
   "pygments_lexer": "ipython3",
   "version": "3.11.4"
  },
  "orig_nbformat": 4
 },
 "nbformat": 4,
 "nbformat_minor": 2
}
