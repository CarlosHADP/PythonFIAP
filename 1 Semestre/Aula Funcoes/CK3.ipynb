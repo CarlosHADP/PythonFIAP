{
 "cells": [
  {
   "cell_type": "code",
   "execution_count": 2,
   "metadata": {},
   "outputs": [
    {
     "name": "stdout",
     "output_type": "stream",
     "text": [
      "Você vai enviar R$50.0 para a conta 1!\n",
      "(1050.0, 950.0)\n"
     ]
    }
   ],
   "source": [
    "def bancario():\n",
    "    conta1 = float(input(\"Qual seu saldo?\"))\n",
    "    conta2 = float(input(\"Qual seu saldo?\"))\n",
    "\n",
    "    pessoa = int(input(\"Qual conta vc quer enviar (1 ou 2)?\"))\n",
    "\n",
    "    quanto = float(input(\"Digite quanto quer enviar\"))\n",
    "\n",
    "    if pessoa == 1:\n",
    "        print(f\"Você vai enviar R${quanto} para a conta 1!\")\n",
    "        conta2 -=quanto\n",
    "        conta1 +=quanto\n",
    "    else:\n",
    "        print(f\"Você vai debitar R${quanto} para a conta 2!\")\n",
    "        conta2 -=quanto\n",
    "        conta1 +=quanto\n",
    "\n",
    "    return conta1, conta2\n",
    "\n",
    "\n",
    "print(bancario())"
   ]
  },
  {
   "cell_type": "code",
   "execution_count": 12,
   "metadata": {},
   "outputs": [
    {
     "data": {
      "text/plain": [
       "(1, 'Estoque agora é de 1 jogos!')"
      ]
     },
     "execution_count": 12,
     "metadata": {},
     "output_type": "execute_result"
    }
   ],
   "source": [
    "def loja():\n",
    "    estoque = int(input(\"Quantos jogos tem na loja?\"))\n",
    "    quantos = 0\n",
    "    if estoque <= 0:\n",
    "        return \"Sem jogos na estoque\"\n",
    "    \n",
    "    while quantos > estoque or quantos == 0:\n",
    "        quantos = int(input(\"Quantos jogos quer comprar\"))\n",
    "        if quantos < estoque:\n",
    "            break\n",
    "        print(\"Não temos jogos suficiente\")\n",
    "\n",
    "    estoque-=quantos\n",
    "\n",
    "    return estoque, f\"Estoque agora é de {estoque} jogos!\"\n",
    "\n",
    "\n",
    "loja()"
   ]
  },
  {
   "cell_type": "code",
   "execution_count": 24,
   "metadata": {},
   "outputs": [
    {
     "name": "stdout",
     "output_type": "stream",
     "text": [
      "Dica, coloque o valor em porcentagem do desconto\n",
      " e adicione a palavra desconto na frente\n",
      "10\n",
      "(90.0, 'O valor do desconto foi de 10')\n"
     ]
    }
   ],
   "source": [
    "def eLOJA():\n",
    "    codigos = [\"5DESCONTO\",\"10DESCONTO\",\"15DESCONTO\",\"20DESCONTO\",\"25DESCONTO\"]\n",
    "\n",
    "    jogo = float(input(\"Qual valor do jogo quer comprar\"))\n",
    "\n",
    "    print(\"Dica, coloque o valor em porcentagem do desconto\\n e adicione a palavra desconto na frente\")\n",
    "    desconto = input(\"Digite seu codigo de desconto\")\n",
    "    \n",
    "    if desconto in codigos:\n",
    "        if desconto[0] == \"5\":\n",
    "            jogo-= jogo*0.05\n",
    "        elif desconto[:2] == \"10\":\n",
    "            jogo -= jogo*0.10\n",
    "        elif desconto[:2] == \"15\":\n",
    "            jogo -= jogo*0.15\n",
    "        elif desconto[:2] == \"20\":\n",
    "            jogo -= jogo*0.20\n",
    "        else:\n",
    "            jogo -= jogo*0.25\n",
    "\n",
    "        print(desconto[:2])\n",
    "        return jogo, f\"O valor do desconto foi de {desconto[:2]}\"\n",
    "\n",
    "             \n",
    "print(eLOJA())\n"
   ]
  },
  {
   "cell_type": "code",
   "execution_count": null,
   "metadata": {},
   "outputs": [],
   "source": []
  }
 ],
 "metadata": {
  "kernelspec": {
   "display_name": "Python 3",
   "language": "python",
   "name": "python3"
  },
  "language_info": {
   "codemirror_mode": {
    "name": "ipython",
    "version": 3
   },
   "file_extension": ".py",
   "mimetype": "text/x-python",
   "name": "python",
   "nbconvert_exporter": "python",
   "pygments_lexer": "ipython3",
   "version": "3.11.4"
  },
  "orig_nbformat": 4
 },
 "nbformat": 4,
 "nbformat_minor": 2
}
