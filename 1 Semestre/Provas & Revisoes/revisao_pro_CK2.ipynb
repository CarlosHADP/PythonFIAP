{
 "cells": [
  {
   "cell_type": "code",
   "execution_count": 3,
   "metadata": {},
   "outputs": [
    {
     "data": {
      "text/plain": [
       "list"
      ]
     },
     "execution_count": 3,
     "metadata": {},
     "output_type": "execute_result"
    }
   ],
   "source": [
    "lista = [1, 4, 3, 4, 5, 6, 8, 9, 11 ,33,  53]\n",
    "soma = 0\n",
    "\n",
    "for i in lista:\n",
    "    soma+=i\n",
    "\n",
    "soma= [soma]\n"
   ]
  },
  {
   "cell_type": "code",
   "execution_count": 3,
   "metadata": {},
   "outputs": [
    {
     "name": "stdout",
     "output_type": "stream",
     "text": [
      "1\n",
      "2\n",
      "3\n",
      "4\n",
      "5\n",
      "A soma é 170\n",
      "A media é 34.0\n"
     ]
    }
   ],
   "source": [
    "i = 0 \n",
    "soma = 0\n",
    "while i < 5:\n",
    "    valores = int(input(f\"Digite o {i} valor:\"))\n",
    "    soma+=valores\n",
    "    i+=1\n",
    "    print(i)\n",
    "\n",
    "\n",
    "media = soma/i\n",
    "\n",
    "print(f\"A soma é {soma}\")\n",
    "print(f\"A media é {media}\")"
   ]
  },
  {
   "cell_type": "code",
   "execution_count": 9,
   "metadata": {},
   "outputs": [
    {
     "name": "stdout",
     "output_type": "stream",
     "text": [
      "Email errado.\n",
      "Senha errada.\n"
     ]
    }
   ],
   "source": [
    "tentativas = 0\n",
    "email = input(\"Qual seu email?\")\n",
    "senha = input(\"Qual sua senha?\")\n",
    "\n",
    "while tentativas<2:\n",
    "    verificaEmail = input(\"Digite seu email:\")\n",
    "    if verificaEmail != email:\n",
    "        tentativas+=1\n",
    "        print(\"Email errado.\")\n",
    "        continue\n",
    "    verificaSenha = input(\"Digite sua senha:\")\n",
    "    if verificaSenha != senha:\n",
    "        tentativas+=1\n",
    "        print(\"Senha errada.\")\n",
    "        continue\n",
    "    print(\"Acesso Liberado!\")\n",
    "    break"
   ]
  },
  {
   "cell_type": "code",
   "execution_count": 10,
   "metadata": {},
   "outputs": [
    {
     "name": "stdout",
     "output_type": "stream",
     "text": [
      "[2, 3, 4, 5, 6, 7, 8, 9, 10, 11, 3, 4, 5, 6, 7, 8, 9, 10, 11, 12, 4, 5, 6, 7, 8, 9, 10, 11, 12, 13, 5, 6, 7, 8, 9, 10, 11, 12, 13, 14, 6, 7, 8, 9, 10, 11, 12, 13, 14, 15, 7, 8, 9, 10, 11, 12, 13, 14, 15, 16, 8, 9, 10, 11, 12, 13, 14, 15, 16, 17, 9, 10, 11, 12, 13, 14, 15, 16, 17, 18, 10, 11, 12, 13, 14, 15, 16, 17, 18, 19, 11, 12, 13, 14, 15, 16, 17, 18, 19, 20]\n",
      "[0, -1, -2, -3, -4, -5, -6, -7, -8, -9, 1, 0, -1, -2, -3, -4, -5, -6, -7, -8, 2, 1, 0, -1, -2, -3, -4, -5, -6, -7, 3, 2, 1, 0, -1, -2, -3, -4, -5, -6, 4, 3, 2, 1, 0, -1, -2, -3, -4, -5, 5, 4, 3, 2, 1, 0, -1, -2, -3, -4, 6, 5, 4, 3, 2, 1, 0, -1, -2, -3, 7, 6, 5, 4, 3, 2, 1, 0, -1, -2, 8, 7, 6, 5, 4, 3, 2, 1, 0, -1, 9, 8, 7, 6, 5, 4, 3, 2, 1, 0]\n",
      "[1, 2, 3, 4, 5, 6, 7, 8, 9, 10, 2, 4, 6, 8, 10, 12, 14, 16, 18, 20, 3, 6, 9, 12, 15, 18, 21, 24, 27, 30, 4, 8, 12, 16, 20, 24, 28, 32, 36, 40, 5, 10, 15, 20, 25, 30, 35, 40, 45, 50, 6, 12, 18, 24, 30, 36, 42, 48, 54, 60, 7, 14, 21, 28, 35, 42, 49, 56, 63, 70, 8, 16, 24, 32, 40, 48, 56, 64, 72, 80, 9, 18, 27, 36, 45, 54, 63, 72, 81, 90, 10, 20, 30, 40, 50, 60, 70, 80, 90, 100]\n",
      "[1.0, 0.5, 0.3333333333333333, 0.25, 0.2, 0.16666666666666666, 0.14285714285714285, 0.125, 0.1111111111111111, 0.1, 2.0, 1.0, 0.6666666666666666, 0.5, 0.4, 0.3333333333333333, 0.2857142857142857, 0.25, 0.2222222222222222, 0.2, 3.0, 1.5, 1.0, 0.75, 0.6, 0.5, 0.42857142857142855, 0.375, 0.3333333333333333, 0.3, 4.0, 2.0, 1.3333333333333333, 1.0, 0.8, 0.6666666666666666, 0.5714285714285714, 0.5, 0.4444444444444444, 0.4, 5.0, 2.5, 1.6666666666666667, 1.25, 1.0, 0.8333333333333334, 0.7142857142857143, 0.625, 0.5555555555555556, 0.5, 6.0, 3.0, 2.0, 1.5, 1.2, 1.0, 0.8571428571428571, 0.75, 0.6666666666666666, 0.6, 7.0, 3.5, 2.3333333333333335, 1.75, 1.4, 1.1666666666666667, 1.0, 0.875, 0.7777777777777778, 0.7, 8.0, 4.0, 2.6666666666666665, 2.0, 1.6, 1.3333333333333333, 1.1428571428571428, 1.0, 0.8888888888888888, 0.8, 9.0, 4.5, 3.0, 2.25, 1.8, 1.5, 1.2857142857142858, 1.125, 1.0, 0.9, 10.0, 5.0, 3.3333333333333335, 2.5, 2.0, 1.6666666666666667, 1.4285714285714286, 1.25, 1.1111111111111112, 1.0]\n"
     ]
    }
   ],
   "source": [
    "soma = []\n",
    "sub = []\n",
    "mult = []\n",
    "div = []\n",
    "\n",
    "for i in range(1,11):\n",
    "    for j in range(1,11):\n",
    "        soma.append(i+j)\n",
    "        sub.append(i-j)\n",
    "        mult.append(i*j)\n",
    "        div.append(i/j)\n",
    "print(soma)\n",
    "print(sub)\n",
    "print(mult)\n",
    "print(div)"
   ]
  },
  {
   "cell_type": "code",
   "execution_count": null,
   "metadata": {},
   "outputs": [],
   "source": []
  }
 ],
 "metadata": {
  "kernelspec": {
   "display_name": "Python 3",
   "language": "python",
   "name": "python3"
  },
  "language_info": {
   "codemirror_mode": {
    "name": "ipython",
    "version": 3
   },
   "file_extension": ".py",
   "mimetype": "text/x-python",
   "name": "python",
   "nbconvert_exporter": "python",
   "pygments_lexer": "ipython3",
   "version": "3.11.4"
  },
  "orig_nbformat": 4
 },
 "nbformat": 4,
 "nbformat_minor": 2
}
