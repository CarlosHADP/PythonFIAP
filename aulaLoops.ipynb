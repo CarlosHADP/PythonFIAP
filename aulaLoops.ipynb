{
 "cells": [
  {
   "cell_type": "code",
   "execution_count": null,
   "metadata": {},
   "outputs": [],
   "source": [
    "for i in range(10):\n",
    "    print(i)"
   ]
  },
  {
   "cell_type": "code",
   "execution_count": null,
   "metadata": {},
   "outputs": [],
   "source": [
    "palavra = \"Hoje é dia de happy hour\"\n",
    "for k in palavra:\n",
    "    if k == \"o\":\n",
    "        continue\n",
    "    print(k, end=\"\")\n"
   ]
  },
  {
   "cell_type": "code",
   "execution_count": null,
   "metadata": {},
   "outputs": [],
   "source": [
    "palavra = \"Hoje é dia de happy hour\"\n",
    "\n",
    "for k in palavra:\n",
    "    if k == \"a\":\n",
    "        break\n",
    "    print(k, end=\"\")"
   ]
  },
  {
   "cell_type": "code",
   "execution_count": null,
   "metadata": {},
   "outputs": [],
   "source": [
    "texto = str(input(\"Digite um texto: \"))\n",
    "palavra = str(input(\"Digite uma palavra para quebrar:\"))\n",
    "\n",
    "\n",
    "for i in texto:\n",
    "    print(i) \n",
    "    if texto in palavra:\n",
    "        break\n",
    "    \n",
    "    \n",
    "    "
   ]
  },
  {
   "cell_type": "code",
   "execution_count": null,
   "metadata": {},
   "outputs": [],
   "source": [
    "palavras = \"hoje e dia de happy hour\"\n",
    "vogais = \"aeiou\"\n",
    "contador = 0\n",
    "\n",
    "for i in palavras:\n",
    "    if i in vogais:\n",
    "        contador+=1\n",
    "print(contador)"
   ]
  },
  {
   "cell_type": "code",
   "execution_count": 16,
   "metadata": {},
   "outputs": [
    {
     "data": {
      "text/plain": [
       "'Hoje>é>dia>de>happy>hour'"
      ]
     },
     "execution_count": 16,
     "metadata": {},
     "output_type": "execute_result"
    }
   ],
   "source": [
    "palavras = ['Hoje','é','dia','de','happy']\n",
    "\n",
    "palavras.append(\"hour\")\n",
    "\n",
    "text = \">\".join(palavras)\n",
    "text"
   ]
  },
  {
   "cell_type": "code",
   "execution_count": 17,
   "metadata": {},
   "outputs": [
    {
     "name": "stdout",
     "output_type": "stream",
     "text": [
      "A media e : 5.5\n",
      "A media e : 6.0\n",
      "A media e : 9.0\n"
     ]
    }
   ],
   "source": [
    "for i in range(3):\n",
    "    nota1 = float(input(\"Digite a primeira nota:\"))\n",
    "    nota2 = float(input(\"Digite a segunda nota:\"))\n",
    "\n",
    "    media = (nota1+nota2)/2\n",
    "    print('A media e :',media)"
   ]
  },
  {
   "cell_type": "code",
   "execution_count": 21,
   "metadata": {},
   "outputs": [
    {
     "name": "stdout",
     "output_type": "stream",
     "text": [
      "Digite mu texto de 5 palavras escrevendo palavra por palavra e escreva a palvara para quebrar\n",
      "['carlos', 'henrique', 'duarte', 'alves']\n"
     ]
    }
   ],
   "source": [
    "array = []\n",
    "print('Digite mu texto de 5 palavras escrevendo palavra por palavra e escreva a palvara para quebrar')\n",
    "palavra = input(\"Em qual palavra voce quer quebrar!\")\n",
    "while len(array) < 5:\n",
    "    texto = array.append(input(\"Digite uma palavra do texto\"))\n",
    "    if palavra in array:\n",
    "        break\n",
    "\n",
    "print(array)"
   ]
  },
  {
   "cell_type": "code",
   "execution_count": 8,
   "metadata": {},
   "outputs": [
    {
     "name": "stdout",
     "output_type": "stream",
     "text": [
      "Nome1: carlos\n",
      "Sobrenome: henrique\n",
      "cpf: 34567\n",
      "rg: 8765\n",
      "\n",
      "Nome2: \n",
      "Sobrenome: \n",
      "cpf: \n",
      "rg: \n",
      "\n",
      "Nome3: \n",
      "Sobrenome: \n",
      "cpf: \n",
      "rg: \n",
      "\n",
      "Nome4: \n",
      "Sobrenome: \n",
      "cpf: \n",
      "rg: \n",
      "\n"
     ]
    }
   ],
   "source": [
    "\n",
    "sistema = []\n",
    "\n",
    "for i in range(4):\n",
    "    nome = str(input('Qual seu nome?'))\n",
    "    sobrenome = str(input(\"Qual seu sobrenome?\"))\n",
    "    cpf = str(input(\"Qual seu cpf?\"))\n",
    "    rg = str(input(\"Qual seu rg?\"))\n",
    "    sistema.append(nome)\n",
    "    sistema.append(sobrenome)\n",
    "    sistema.append(cpf)\n",
    "    sistema.append(rg)\n",
    "\n",
    "\n",
    "    print(f\"Nome{i+1}: {nome}\\nSobrenome: {sobrenome}\\ncpf: {cpf}\\nrg: {rg}\\n\")\n",
    "    \n",
    "\n",
    "\n"
   ]
  },
  {
   "cell_type": "code",
   "execution_count": null,
   "metadata": {},
   "outputs": [],
   "source": []
  }
 ],
 "metadata": {
  "kernelspec": {
   "display_name": "Python 3",
   "language": "python",
   "name": "python3"
  },
  "language_info": {
   "codemirror_mode": {
    "name": "ipython",
    "version": 3
   },
   "file_extension": ".py",
   "mimetype": "text/x-python",
   "name": "python",
   "nbconvert_exporter": "python",
   "pygments_lexer": "ipython3",
   "version": "3.11.4"
  },
  "orig_nbformat": 4
 },
 "nbformat": 4,
 "nbformat_minor": 2
}
