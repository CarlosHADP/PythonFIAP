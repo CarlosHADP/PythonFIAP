{
 "cells": [
  {
   "cell_type": "code",
   "execution_count": 3,
   "metadata": {},
   "outputs": [
    {
     "name": "stdout",
     "output_type": "stream",
     "text": [
      "Parabéns! Você acertou a palavra: \"car\" \n"
     ]
    }
   ],
   "source": [
    "#ex1\n",
    "usuario1 = str(input('Escolha a palavra a ser adivinhada:'))\n",
    "tentativas = 3\n",
    " \n",
    "if usuario1 != '':\n",
    "    usuario2 = str(input('Tente desvendar a palavra:'))\n",
    "    if usuario2 != usuario1:\n",
    "        tentativas-=1\n",
    "        print(f'Você tem {tentativas} tentativas!')\n",
    "        usuario2 = str(input('Tente desvendar a palavra novamente:'))\n",
    "        if usuario2 != usuario1:\n",
    "            tentativas-=1\n",
    "            print(f'Você tem {tentativas} tentativas!')\n",
    "            usuario2 = str(input('Tente desvendar a palavra novamente:'))\n",
    "            if usuario2 != usuario1:\n",
    "                tentativas-=1\n",
    "                print(f'Você tem {tentativas} acabou o jogo!!')\n",
    "            else:\n",
    "                print(f'Parabéns! Você acertou a palavra: \"{usuario1}\"')\n",
    "        else:\n",
    "            print(f'Parabéns! Você acertou a palavra: \"{usuario1}\"')\n",
    "    else:\n",
    "        print(f'Parabéns! Você acertou a palavra: \"{usuario1}\" ')\n"
   ]
  },
  {
   "cell_type": "code",
   "execution_count": 6,
   "metadata": {},
   "outputs": [
    {
     "name": "stdout",
     "output_type": "stream",
     "text": [
      "10.0\n",
      "8.0\n",
      "6.0\n",
      "4.0\n"
     ]
    }
   ],
   "source": [
    "#ex 2\n",
    "\n",
    "prod1 = int(input('Digite a quantidade do produto 1:'))\n",
    "prod2 = int(input('Digite a quantidade do produto 2:'))\n",
    "prod3 = int(input('Digite a quantidade do produto 3:'))\n",
    "prod4 = int(input('Digite a quantidade do produto 4:'))\n",
    "\n",
    "valor1 = float(input('Digite o valor do produto 1:'))\n",
    "valor2 = float(input('Digite o valor do produto 2:'))\n",
    "valor3 = float(input('Digite o valor do produto 3:'))\n",
    "valor4 = float(input('Digite o valor do produto 4:'))\n",
    "\n",
    "rel1 = prod1 * valor1\n",
    "rel2 = prod2 * valor2\n",
    "rel3 = prod3 * valor3\n",
    "rel4 = prod4 * valor4\n",
    "\n",
    "if rel1 > rel2 and rel1 > rel3 and rel1> rel4:\n",
    "    print(rel1)\n",
    "    if rel2 > rel3 and rel2 > rel4:\n",
    "        print(rel2)\n",
    "        if rel3 > rel4:\n",
    "            print(rel3)\n",
    "            print(rel4)\n",
    "        else:\n",
    "            print(rel4)\n",
    "            print(rel3)\n",
    "    elif rel3 > rel2 and rel3 > rel4:\n",
    "        print(rel3)\n",
    "        if rel2 > rel4:\n",
    "            print(rel2)\n",
    "            print(rel4)\n",
    "        else:\n",
    "            print(rel4)\n",
    "            print(rel2)\n",
    "    else:\n",
    "        print(rel4)\n",
    "        if rel2 > rel3:\n",
    "            print(rel2)\n",
    "            print(rel3)\n",
    "        else:\n",
    "            print(rel3)\n",
    "            print(rel2)\n",
    "\n",
    "# nao completei porque seria apenas uma repeticao da mesma coisa com ordem diferentes!"
   ]
  },
  {
   "cell_type": "code",
   "execution_count": 12,
   "metadata": {},
   "outputs": [
    {
     "name": "stdout",
     "output_type": "stream",
     "text": [
      "Seu numero de falhas chegou a 2. Login cancelado\n"
     ]
    }
   ],
   "source": [
    "#ex3\n",
    "user = str(input('Digite o seu usuario:'))\n",
    "senha = (input('Crie a sua senha:'))\n",
    "palPasse = str(input('Crie a sua palavra passe:')) \n",
    "\n",
    "if user != '':\n",
    "    login = (input('Digite a sua senha:'))\n",
    "    if senha != login:\n",
    "        login = (input('Digite a sua senha novamente:'))\n",
    "        if senha != login:\n",
    "            print(f'Seu numero de falhas chegou a 2. Login cancelado') \n",
    "        else:\n",
    "            passeLogin = str(input('Digite sua palavra passe:'))\n",
    "            if passeLogin != palPasse:\n",
    "               print(f'Seu numero de falhas chegou a 2. Login cancelado')  \n",
    "            else:\n",
    "                print('Acesso permitido')\n",
    "    else:\n",
    "        passeLogin = str(input('Digite sua palavra passe:'))\n",
    "        if passeLogin != palPasse:\n",
    "            passeLogin = str(input('Digite sua palavra passe:'))\n",
    "            if passeLogin != palPasse:\n",
    "                print(f'Seu numero de falhas chegou a 2. Login cancelado') \n",
    "        else:\n",
    "            print('Acesso liberado!')\n",
    "else:\n",
    "    print('Seu user nao pode estar vazio!')\n"
   ]
  },
  {
   "cell_type": "code",
   "execution_count": 17,
   "metadata": {},
   "outputs": [
    {
     "name": "stdout",
     "output_type": "stream",
     "text": [
      "Voce tem 5120.0 em reais\n",
      "Voce tem 940.0 em dolar\n",
      "Voce tem 800.0 em euro\n"
     ]
    }
   ],
   "source": [
    "#ex4 \n",
    "# libra - dolar - euro - real\n",
    "\n",
    "moeda = input('Digite a moeda que deseja converter:').lower()\n",
    "quant = float(input('Quanto de dinheiro voce tem?'))\n",
    "if moeda == 'real':\n",
    "    libras = quant * 0.16\n",
    "    euro = quant * 0.18\n",
    "    dolar = quant * 0.20\n",
    "    print(f'Voce tem {libras} em libras')\n",
    "    print(f'Voce tem {dolar} em dolar')\n",
    "    print(f'Voce tem {euro} em euro')\n",
    "elif moeda == 'libras':\n",
    "    real = quant*6.38\n",
    "    dolar = quant*1.25\n",
    "    euro = quant*1.17\n",
    "    print(f'Voce tem {real} em reais')\n",
    "    print(f'Voce tem {dolar} em dolar')\n",
    "    print(f'Voce tem {euro} em euro')\n",
    "elif moeda == 'euro':\n",
    "    real = quant*5.46\n",
    "    dolar = quant*1.07\n",
    "    libras = quant*0.86\n",
    "    print(f'Voce tem {real} em reais')\n",
    "    print(f'Voce tem {dolar} em dolar')\n",
    "    print(f'Voce tem {libras} em libras')\n",
    "elif moeda == 'dolar':\n",
    "    real = quant*5.12\n",
    "    euro = quant*0.94\n",
    "    libras = quant*0.80\n",
    "    print(f'Voce tem {real} em reais')\n",
    "    print(f'Voce tem {euro} em euro')\n",
    "    print(f'Voce tem {libras} em libras') \n"
   ]
  },
  {
   "cell_type": "code",
   "execution_count": 20,
   "metadata": {},
   "outputs": [
    {
     "name": "stdout",
     "output_type": "stream",
     "text": [
      "A venda 1 é 40.0% da média\n",
      "A venda 2 é 80.0% da média\n",
      "A venda 3 é 120.0% da média\n",
      "A venda 4 é 160.0% da média\n"
     ]
    }
   ],
   "source": [
    "valor1 = float(input('Valor da venda 1'))\n",
    "valor2 = float(input('Valor da venda 2'))*2\n",
    "valor3 = float(input('Valor da venda 3'))*3\n",
    "valor4 = float(input('Valor da venda 4'))*4\n",
    "\n",
    "media = (valor1 + valor2 + valor3 + valor4)/4\n",
    "\n",
    "porc1 = (valor1*100)/media\n",
    "porc2 = (valor2*100)/media\n",
    "porc3 = (valor3*100)/media\n",
    "porc4 = (valor4*100)/media\n",
    "print(f'A venda 1 é {porc1}% da média')\n",
    "print(f'A venda 2 é {porc2}% da média')\n",
    "print(f'A venda 3 é {porc3}% da média')\n",
    "print(f'A venda 4 é {porc4}% da média')\n"
   ]
  },
  {
   "cell_type": "code",
   "execution_count": 21,
   "metadata": {},
   "outputs": [
    {
     "name": "stdout",
     "output_type": "stream",
     "text": [
      "carlos você precisa verificar os requisitos de visto para entrada no país.\n"
     ]
    }
   ],
   "source": [
    "nome = str(input('Digite seu nome:'))\n",
    "nacionalidade = str(input('Digite sua nacionalidade:')).lower()\n",
    "n_passaporte = int(input('Digite seu numero do passaporte:'))\n",
    "\n",
    "if nacionalidade == 'brasileiro' or nacionalidade == 'brasileira':\n",
    "    print('Boas-Vindas')\n",
    "    print('O visto não é necessário!')\n",
    "else:\n",
    "    print(f'{nome} você precisa verificar os requisitos de visto para entrada no país.')"
   ]
  }
 ],
 "metadata": {
  "kernelspec": {
   "display_name": "Python 3",
   "language": "python",
   "name": "python3"
  },
  "language_info": {
   "codemirror_mode": {
    "name": "ipython",
    "version": 3
   },
   "file_extension": ".py",
   "mimetype": "text/x-python",
   "name": "python",
   "nbconvert_exporter": "python",
   "pygments_lexer": "ipython3",
   "version": "3.11.4"
  },
  "orig_nbformat": 4
 },
 "nbformat": 4,
 "nbformat_minor": 2
}
