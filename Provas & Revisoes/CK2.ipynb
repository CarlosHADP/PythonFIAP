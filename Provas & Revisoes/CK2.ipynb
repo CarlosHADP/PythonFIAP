{
 "cells": [
  {
   "cell_type": "code",
   "execution_count": 1,
   "metadata": {},
   "outputs": [
    {
     "name": "stdout",
     "output_type": "stream",
     "text": [
      "A lista de massas é [0.0016666666666666668, 0.0033333333333333335, 0.005, 0.006666666666666667, 0.008333333333333333, 0.01]\n"
     ]
    }
   ],
   "source": [
    "#ex1\n",
    "# massa = forca / velocidade\n",
    "lista_forca = [500, 1000, 1500, 2000, 2500, 3000]\n",
    "velocidade = 300000\n",
    "lista_massas = []\n",
    "\n",
    "for i in lista_forca:\n",
    "    lista_massas.append(i/velocidade)\n",
    "\n",
    "print(f\"A lista de massas é {lista_massas}\")"
   ]
  },
  {
   "cell_type": "code",
   "execution_count": 8,
   "metadata": {},
   "outputs": [
    {
     "name": "stdout",
     "output_type": "stream",
     "text": [
      "Lista de nomes - ['carlos', 'henrique', 'alves', 'duarte']\n",
      "Lista de cpfs - [134, 643, 86847, 36473]\n"
     ]
    }
   ],
   "source": [
    "#ex2 \n",
    "\n",
    "contador = 0 \n",
    "lista_nomes = []\n",
    "lista_cpf = []\n",
    "\n",
    "while contador < 4:\n",
    "    nomes = str(input(\"Digite seu nome: \"))\n",
    "    cpfs = int(input(\"Digite seu cpf: \"))\n",
    "    lista_nomes.append(nomes)\n",
    "    lista_cpf.append(cpfs)\n",
    "    contador+=1\n",
    "\n",
    "print(f\"Lista de nomes - {lista_nomes}\")\n",
    "print(f\"Lista de cpfs - {lista_cpf}\")"
   ]
  },
  {
   "cell_type": "code",
   "execution_count": 3,
   "metadata": {},
   "outputs": [
    {
     "name": "stdout",
     "output_type": "stream",
     "text": [
      "[1620.0]\n",
      "[2000.0, 2560.0]\n",
      "[2940.0, 3500.0]\n"
     ]
    }
   ],
   "source": [
    "#ex3 \n",
    "# - Se o salário for até R$ 2.000,00, será aplicado um desconto de 10%;\n",
    "# - Se o salário for superior a R$ 2.000,00 e até R$ 4.000,00, será aplicado um desconto de 20%;\n",
    "# - Se o salário for superior a R$ 4.000,00, será aplicado um desconto de 30%.\n",
    "\n",
    "salario_10 = []\n",
    "salario_20 = []\n",
    "salario_30 = []\n",
    "\n",
    "lista_salarios = [1800, 2500, 3200, 4200, 5000]\n",
    "\n",
    "for i in lista_salarios:\n",
    "    if i < 2000:\n",
    "        i-= i*0.10\n",
    "        salario_10.append(i)\n",
    "    elif 2000 < i < 4000:\n",
    "        i-= i*0.20\n",
    "        salario_20.append(i)\n",
    "    else:\n",
    "        i-= i*0.30\n",
    "        salario_30.append(i)\n",
    "    \n",
    "print(salario_10)\n",
    "print(salario_20)\n",
    "print(salario_30)\n"
   ]
  },
  {
   "cell_type": "code",
   "execution_count": 2,
   "metadata": {},
   "outputs": [
    {
     "name": "stdout",
     "output_type": "stream",
     "text": [
      "Usuario 1 digite seus produtos\n",
      "Usuario 2 digite seus produtos\n",
      "USUARIO1 - O total das suas compras foi de 160.0 \n",
      " e a média dos valores foi de 40.0.\n",
      "\n",
      "USUARIO1 - O total das suas compras foi de 200.0 \n",
      " e a média dos valores foi de 50.0.\n"
     ]
    }
   ],
   "source": [
    "#ex4\n",
    "total_user1 = 0\n",
    "total_user2 = 0\n",
    "\n",
    "\n",
    "for i in range(1,3):\n",
    "    print(f\"Usuario {i} digite seus produtos\")\n",
    "    for j in range(4):\n",
    "        produto = float(input(\"Valor produto\"))\n",
    "        if i < 2:\n",
    "            total_user1+=produto\n",
    "        else:\n",
    "            total_user2+=produto\n",
    "\n",
    "media_user1 = total_user1/4\n",
    "\n",
    "media_user2 = total_user2/4\n",
    "\n",
    "\n",
    "\n",
    "print(f\"USUARIO1 - O total das suas compras foi de {total_user1} \\n e a média dos valores foi de {media_user1}.\\n\")\n",
    "\n",
    "print(f\"USUARIO1 - O total das suas compras foi de {total_user2} \\n e a média dos valores foi de {media_user2}.\")\n",
    "\n"
   ]
  },
  {
   "cell_type": "code",
   "execution_count": 9,
   "metadata": {},
   "outputs": [
    {
     "name": "stdout",
     "output_type": "stream",
     "text": [
      "Temos o produto ssd em nossa loja.\n",
      "Voce vai levar 5 ssd\n",
      "Temos o produto notebook em nossa loja.\n",
      "Voce vai levar 7 notebook\n"
     ]
    }
   ],
   "source": [
    "#ex5\n",
    "\n",
    "lista_produtos = ['notebook', 'ssd', 'mouse', 'teclado', 'monitor']\n",
    "\n",
    "prod_adquiridos = []\n",
    "i = 1\n",
    "\n",
    "while i < 6:\n",
    "    produto = input(f\"Digite o produto {i}\")\n",
    "    prod_adquiridos.append(produto)\n",
    "    i+=1\n",
    "\n",
    "for k in prod_adquiridos:\n",
    "    if k in lista_produtos:\n",
    "        print(f\"Temos o produto {k} em nossa loja.\")\n",
    "        quant = int(input(f\"Qual a quantidade do produto {k}:\"))\n",
    "        print(f\"Voce vai levar {quant} {k}\")\n"
   ]
  }
 ],
 "metadata": {
  "kernelspec": {
   "display_name": "Python 3",
   "language": "python",
   "name": "python3"
  },
  "language_info": {
   "codemirror_mode": {
    "name": "ipython",
    "version": 3
   },
   "file_extension": ".py",
   "mimetype": "text/x-python",
   "name": "python",
   "nbconvert_exporter": "python",
   "pygments_lexer": "ipython3",
   "version": "3.9.1"
  },
  "orig_nbformat": 4
 },
 "nbformat": 4,
 "nbformat_minor": 2
}
