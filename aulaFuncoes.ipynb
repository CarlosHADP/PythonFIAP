{
 "cells": [
  {
   "cell_type": "code",
   "execution_count": 5,
   "metadata": {},
   "outputs": [
    {
     "data": {
      "text/plain": [
       "2222222222"
      ]
     },
     "execution_count": 5,
     "metadata": {},
     "output_type": "execute_result"
    }
   ],
   "source": [
    "1234567890 + 987654332"
   ]
  },
  {
   "cell_type": "code",
   "execution_count": 9,
   "metadata": {},
   "outputs": [],
   "source": [
    "def parimpar(i):\n",
    "    return ['par','impar'][i % 2]"
   ]
  },
  {
   "cell_type": "code",
   "execution_count": 10,
   "metadata": {},
   "outputs": [
    {
     "data": {
      "text/plain": [
       "'par'"
      ]
     },
     "execution_count": 10,
     "metadata": {},
     "output_type": "execute_result"
    }
   ],
   "source": [
    "parimpar(15134)"
   ]
  },
  {
   "cell_type": "code",
   "execution_count": 15,
   "metadata": {},
   "outputs": [],
   "source": [
    "def soma(x,y):\n",
    "    '''Funcao soma'''\n",
    "    result = x + y\n",
    "    return result"
   ]
  },
  {
   "cell_type": "code",
   "execution_count": 16,
   "metadata": {},
   "outputs": [
    {
     "data": {
      "text/plain": [
       "12"
      ]
     },
     "execution_count": 16,
     "metadata": {},
     "output_type": "execute_result"
    }
   ],
   "source": [
    "soma(5,7)"
   ]
  },
  {
   "cell_type": "code",
   "execution_count": null,
   "metadata": {},
   "outputs": [],
   "source": [
    "#ex1 \n",
    "\n",
    "def soma(x,y):\n",
    "    return x + y\n",
    "\n",
    "def sub(x,y):\n",
    "    return x - y\n",
    "\n",
    "def div(x,y):\n",
    "    return x / y\n",
    "\n",
    "def mult(x,y):\n",
    "    return x * y"
   ]
  },
  {
   "cell_type": "code",
   "execution_count": null,
   "metadata": {},
   "outputs": [],
   "source": [
    "#ex2 AREAS\n",
    "\n",
    "def quadrado(largura,altura) -> float:\n",
    "    area = largura * altura\n",
    "    return area\n",
    "\n",
    "def retangulo(largura,altura) -> float:\n",
    "    area = largura * altura\n",
    "    return area\n",
    "\n",
    "def circulo(raio) -> float:\n",
    "    area = 3.14*(raio^2)\n",
    "    return area\n",
    "\n",
    "def triangulo(largura,altura) -> float:\n",
    "    area = (largura * altura) / 2\n",
    "    return area"
   ]
  },
  {
   "cell_type": "code",
   "execution_count": null,
   "metadata": {},
   "outputs": [],
   "source": [
    "#ex3 Volume cubo\n",
    "\n",
    "def cubo(largura,altura,comprimento):\n",
    "    volume = largura * altura * comprimento\n",
    "    return volume"
   ]
  },
  {
   "cell_type": "code",
   "execution_count": null,
   "metadata": {},
   "outputs": [],
   "source": [
    "# ex4\n",
    "\n"
   ]
  },
  {
   "cell_type": "code",
   "execution_count": 19,
   "metadata": {},
   "outputs": [
    {
     "data": {
      "text/plain": [
       "'Impar'"
      ]
     },
     "execution_count": 19,
     "metadata": {},
     "output_type": "execute_result"
    }
   ],
   "source": [
    "#ex5 \n",
    "\n",
    "def parimpar(i):\n",
    "    return ['Par','Impar'][i % 2]\n",
    "\n",
    "\n",
    "\n",
    "parimpar(5)"
   ]
  },
  {
   "cell_type": "code",
   "execution_count": 18,
   "metadata": {},
   "outputs": [
    {
     "data": {
      "text/plain": [
       "85"
      ]
     },
     "execution_count": 18,
     "metadata": {},
     "output_type": "execute_result"
    }
   ],
   "source": [
    "# ex6\n",
    "\n",
    "list = [10, 15, 25, 20, 15]\n",
    "\n",
    "def calculoLista(lista) -> int:\n",
    "    soma = 0\n",
    "    for i in lista:\n",
    "        soma+=i\n",
    "\n",
    "\n",
    "\n",
    "    return soma\n",
    "\n",
    "calculoLista(list)"
   ]
  },
  {
   "cell_type": "code",
   "execution_count": 37,
   "metadata": {},
   "outputs": [
    {
     "name": "stdout",
     "output_type": "stream",
     "text": [
      "23.2 116.0 [10.0, 5.0, 15.0, 46.0, 40.0]\n"
     ]
    }
   ],
   "source": [
    "# ex7 \n",
    "\n",
    "def func():\n",
    "    lista = []\n",
    "    soma = 0\n",
    "    for i in range(1,6):\n",
    "        valor = float(input(f\"Valor {i}:\"))\n",
    "        lista.append(valor)\n",
    "        soma+=valor\n",
    "\n",
    "    media = soma/len(lista)\n",
    "    \n",
    "    return media, soma, lista\n",
    "\n",
    "media,soma,lista = func()\n",
    "\n",
    "print(media,soma,lista)"
   ]
  },
  {
   "cell_type": "code",
   "execution_count": 27,
   "metadata": {},
   "outputs": [
    {
     "name": "stdout",
     "output_type": "stream",
     "text": [
      "[5.0, 5.0, 5.0, 5.0, 5.0]\n",
      "25.0\n",
      "Media: 5.0\n"
     ]
    }
   ],
   "source": [
    "def geral():\n",
    "    lista = []\n",
    "    for i in range(1,6):\n",
    "        valor = float(input(f\"Valor {i}:\"))\n",
    "        lista.append(valor)\n",
    "    return lista\n",
    "\n",
    "\n",
    "\n",
    "def soma():\n",
    "    soma = 0\n",
    "    for k in geral():\n",
    "        soma+=k\n",
    "    return soma\n",
    "\n",
    "\n",
    "\n",
    "def media():\n",
    "    media = soma() / len(geral())\n",
    "    return media\n",
    "\n",
    "\n",
    "print(geral())\n",
    "print(soma())\n",
    "print('Media:',media())"
   ]
  },
  {
   "cell_type": "code",
   "execution_count": 35,
   "metadata": {},
   "outputs": [
    {
     "name": "stdout",
     "output_type": "stream",
     "text": [
      "(900.0, 2000.0, 7000.0)\n"
     ]
    }
   ],
   "source": [
    "def salarios():\n",
    "    salarios = []\n",
    "    \n",
    "    for i in range (1,4):\n",
    "        salario = float(input(f\"Salario{i}\"))\n",
    "        salarios.append(salario)\n",
    "\n",
    "    salario1, salario2,salario3 = salarios[0], salarios[1], salarios[2]\n",
    "    \n",
    "    for j in salarios:\n",
    "        if j <= 2000:\n",
    "            salario1 = j - (j*0.10)\n",
    "        elif 2000 < j < 4000:\n",
    "            salario2 = j - (j*0.20)\n",
    "        else:\n",
    "            salario3 = j - (j*0.30)\n",
    "\n",
    "    return salario1, salario2, salario3\n",
    "\n",
    "print(salarios())"
   ]
  }
 ],
 "metadata": {
  "kernelspec": {
   "display_name": "Python 3",
   "language": "python",
   "name": "python3"
  },
  "language_info": {
   "codemirror_mode": {
    "name": "ipython",
    "version": 3
   },
   "file_extension": ".py",
   "mimetype": "text/x-python",
   "name": "python",
   "nbconvert_exporter": "python",
   "pygments_lexer": "ipython3",
   "version": "3.11.4"
  },
  "orig_nbformat": 4
 },
 "nbformat": 4,
 "nbformat_minor": 2
}
