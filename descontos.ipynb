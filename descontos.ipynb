{
 "cells": [
  {
   "cell_type": "code",
   "execution_count": 23,
   "metadata": {},
   "outputs": [
    {
     "name": "stdout",
     "output_type": "stream",
     "text": [
      "Dica, coloque o valor em porcentagem do desconto\n",
      " e adicione a palavra desconto na frente\n",
      "5D\n",
      "(95.0, 'O valor do desconto foi de 5D')\n"
     ]
    }
   ],
   "source": [
    "def eLOJA():\n",
    "    codigos = {\"5DESCONTO\": 0.05,\n",
    "               \"10DESCONTO\": 0.10,\n",
    "               \"15DESCONTO\": 0.15,\n",
    "               \"20DESCONTO\": 0.20,\n",
    "               \"25DESCONTO\": 0.25}\n",
    "\n",
    "    jogo = float(input(\"Qual valor do jogo quer comprar\"))\n",
    "    print(\"Dica, coloque o valor em porcentagem do desconto\\n e adicione a palavra desconto na frente\")\n",
    "    desconto = input(\"Digite seu codigo de desconto\")\n",
    "    \n",
    "    for i,k in codigos.items():\n",
    "        if i == desconto:\n",
    "            jogo-= 100*k\n",
    "    \n",
    "    print(desconto[:2])\n",
    "    return jogo, f\"O valor do desconto foi de {desconto[:2]}\"\n",
    "            \n",
    "eLOJA()"
   ]
  },
  {
   "cell_type": "code",
   "execution_count": 13,
   "metadata": {},
   "outputs": [
    {
     "name": "stdout",
     "output_type": "stream",
     "text": [
      "75.0\n"
     ]
    }
   ],
   "source": [
    "codigos = {\"5DESCONTO\": 0.05,\n",
    "           \"10DESCONTO\": 0.10,\n",
    "           \"15DESCONTO\": 0.15,\n",
    "           \"20DESCONTO\": 0.20,\n",
    "           \"25DESCONTO\": 0.25}\n",
    "valor = 100\n",
    "desconto = input(\"\")\n",
    "for i,k in codigos.items():\n",
    "    if i == desconto:\n",
    "        valor-= 100*k\n",
    "    else:\n",
    "        continue\n",
    "print(valor)\n",
    "        "
   ]
  }
 ],
 "metadata": {
  "kernelspec": {
   "display_name": "Python 3",
   "language": "python",
   "name": "python3"
  },
  "language_info": {
   "codemirror_mode": {
    "name": "ipython",
    "version": 3
   },
   "file_extension": ".py",
   "mimetype": "text/x-python",
   "name": "python",
   "nbconvert_exporter": "python",
   "pygments_lexer": "ipython3",
   "version": "3.11.3"
  }
 },
 "nbformat": 4,
 "nbformat_minor": 2
}
